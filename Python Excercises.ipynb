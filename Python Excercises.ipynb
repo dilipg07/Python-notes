{
 "cells": [
  {
   "cell_type": "code",
   "execution_count": 1,
   "id": "920bf47c",
   "metadata": {},
   "outputs": [
    {
     "data": {
      "text/plain": [
       "5"
      ]
     },
     "execution_count": 1,
     "metadata": {},
     "output_type": "execute_result"
    }
   ],
   "source": [
    "# Write a Python program to calculate the length of a string.\n",
    "def string_len(string):\n",
    "    count=0\n",
    "    for i in string:\n",
    "        count+=1\n",
    "    return count\n",
    "string_len('Hello')"
   ]
  },
  {
   "cell_type": "code",
   "execution_count": 2,
   "id": "69b646c6",
   "metadata": {},
   "outputs": [
    {
     "data": {
      "text/plain": [
       "49.7"
      ]
     },
     "execution_count": 2,
     "metadata": {},
     "output_type": "execute_result"
    }
   ],
   "source": [
    "# Write a Python program to sum all the items in a list.\n",
    "def sum_lst(lst):\n",
    "    Addition=0\n",
    "    for x in lst:\n",
    "        Addition+=x\n",
    "    return Addition\n",
    "sum_lst([1,4,5,8,5,6.7,8,9,3])"
   ]
  },
  {
   "cell_type": "code",
   "execution_count": 3,
   "id": "31e01e9c",
   "metadata": {},
   "outputs": [
    {
     "data": {
      "text/plain": [
       "541900.7999999999"
      ]
     },
     "execution_count": 3,
     "metadata": {},
     "output_type": "execute_result"
    }
   ],
   "source": [
    "# Write a Python program to sum all the items in a list.\n",
    "def mul_lst(lst):\n",
    "    mult=1\n",
    "    for x in lst:\n",
    "        mult*=x\n",
    "    return mult\n",
    "mul_lst([3,4,6,2,7,8,12,5.6])"
   ]
  },
  {
   "cell_type": "code",
   "execution_count": 4,
   "id": "fede1b22",
   "metadata": {},
   "outputs": [
    {
     "data": {
      "text/plain": [
       "109"
      ]
     },
     "execution_count": 4,
     "metadata": {},
     "output_type": "execute_result"
    }
   ],
   "source": [
    "# Write a Python program to get the largest number from a list.\n",
    "def max_num(lst):\n",
    "    m_num=lst[0]\n",
    "    for x in lst:\n",
    "        if x>m_num:\n",
    "            m_num=x\n",
    "    return m_num\n",
    "max_num(lst=[98,67,43,89,74,23,90,23,82,109,65,83,47,76])"
   ]
  },
  {
   "cell_type": "code",
   "execution_count": 5,
   "id": "ecdf74b9",
   "metadata": {},
   "outputs": [
    {
     "data": {
      "text/plain": [
       "109"
      ]
     },
     "execution_count": 5,
     "metadata": {},
     "output_type": "execute_result"
    }
   ],
   "source": [
    "lst=[98,67,43,89,74,23,90,23,82,109,65,83,47,76]\n",
    "max(lst)"
   ]
  },
  {
   "cell_type": "code",
   "execution_count": 6,
   "id": "d773a2c3",
   "metadata": {},
   "outputs": [
    {
     "data": {
      "text/plain": [
       "9"
      ]
     },
     "execution_count": 6,
     "metadata": {},
     "output_type": "execute_result"
    }
   ],
   "source": [
    "# Write a Python program to get the smallest number from a list.\n",
    "def min_num(lst):\n",
    "    n_num=lst[0]\n",
    "    for x in lst:\n",
    "        if x<n_num:\n",
    "            n_num=x\n",
    "    return n_num\n",
    "min_num(lst=[98,67,43,89,74,23,9,23,82,109,65,83,47,76])"
   ]
  },
  {
   "cell_type": "code",
   "execution_count": 7,
   "id": "76071c00",
   "metadata": {},
   "outputs": [
    {
     "data": {
      "text/plain": [
       "9"
      ]
     },
     "execution_count": 7,
     "metadata": {},
     "output_type": "execute_result"
    }
   ],
   "source": [
    "lst=[98,67,43,89,74,23,9,23,82,109,65,83,47,76]\n",
    "min(lst)"
   ]
  },
  {
   "cell_type": "code",
   "execution_count": 58,
   "id": "56f8fa30",
   "metadata": {},
   "outputs": [
    {
     "name": "stdout",
     "output_type": "stream",
     "text": [
      "{'g': 2, 'o': 3, 'l': 1, 'e': 1, '.': 1, 'c': 1, 'm': 1}\n"
     ]
    }
   ],
   "source": [
    "# Write a Python program to count the number of characters (character frequency) in a string. Go to the editor \n",
    "# Sample String : 'google.com'\n",
    "def num_char_str(string): \n",
    "    dic = {}  \n",
    "    for n in string:  \n",
    "        keys = dic.keys()  \n",
    "        if n in keys:  \n",
    "            dic[n] += 1  \n",
    "        else:  \n",
    "            dic[n] = 1  \n",
    "    return dic  \n",
    "print(num_char_str('google.com')) "
   ]
  },
  {
   "cell_type": "code",
   "execution_count": 9,
   "id": "7272bb5c",
   "metadata": {},
   "outputs": [],
   "source": [
    "# Write a Python program to count the number of strings where the string length is 2 or more and \n",
    "# the first and last character are same from a given list of strings\n",
    "def fun(lst):\n",
    "    count=0\n",
    "    for x in lst:\n",
    "        if len(x)>=2 and x[0]==x[-1]:\n",
    "            #print(x[0],x[-1])\n",
    "            count+=1\n",
    "    return count"
   ]
  },
  {
   "cell_type": "code",
   "execution_count": 10,
   "id": "f85143f6",
   "metadata": {},
   "outputs": [
    {
     "data": {
      "text/plain": [
       "2"
      ]
     },
     "execution_count": 10,
     "metadata": {},
     "output_type": "execute_result"
    }
   ],
   "source": [
    "lst=['abc', 'xyz', 'aba', '1221']\n",
    "fun(lst)"
   ]
  },
  {
   "cell_type": "code",
   "execution_count": 11,
   "id": "6239f470",
   "metadata": {},
   "outputs": [],
   "source": [
    "# Write a Python program to get a list, sorted in increasing order by the last element \n",
    "# in each tuple from a given list of non-empty tuples.\n",
    "lst=[(2, 5), (1, 2), (4, 4), (2, 3), (2, 1)]\n",
    "lst.sort(key=lambda x: x[-1] )"
   ]
  },
  {
   "cell_type": "code",
   "execution_count": 12,
   "id": "a0152367",
   "metadata": {},
   "outputs": [
    {
     "name": "stdout",
     "output_type": "stream",
     "text": [
      "[(2, 1), (1, 2), (2, 3), (4, 4), (2, 5)]\n"
     ]
    }
   ],
   "source": [
    "print(lst)"
   ]
  },
  {
   "cell_type": "code",
   "execution_count": 13,
   "id": "71680b2f",
   "metadata": {},
   "outputs": [],
   "source": [
    "# Write a Python program to get a string made of the first 2 and the last 2 chars from a given a string\n",
    "# If the string length is less than 2, return instead the empty string.\n",
    "def string(stg):\n",
    "    if len(stg)<2:\n",
    "        return \"Empty string\"\n",
    "    else:\n",
    "        fin=stg[0:2]+stg[-2:]\n",
    "    return fin"
   ]
  },
  {
   "cell_type": "code",
   "execution_count": 14,
   "id": "d2de9284",
   "metadata": {},
   "outputs": [
    {
     "data": {
      "text/plain": [
       "'Empty string'"
      ]
     },
     "execution_count": 14,
     "metadata": {},
     "output_type": "execute_result"
    }
   ],
   "source": [
    "string(\"w\")"
   ]
  },
  {
   "cell_type": "code",
   "execution_count": 15,
   "id": "68b727ff",
   "metadata": {},
   "outputs": [],
   "source": [
    "# Write a Python program to get a string from a given string where all occurrences \n",
    "# of its first char have been changed to '$', except the first char itself.\n",
    "\n",
    "def fun(string):\n",
    "    string=list(string)\n",
    "    var=string[0]\n",
    "    print(var)\n",
    "    count=0\n",
    "    y=[]\n",
    "    for x in string:\n",
    "        if var==string[0] and count==0:\n",
    "            count+=1\n",
    "            pass\n",
    "        elif x==var and count>0:\n",
    "            x=\"$\"\n",
    "            print(x)\n",
    "            count+=1\n",
    "        y.append(x)\n",
    "    return \"\".join(y)"
   ]
  },
  {
   "cell_type": "code",
   "execution_count": 16,
   "id": "4cefa6fc",
   "metadata": {},
   "outputs": [
    {
     "name": "stdout",
     "output_type": "stream",
     "text": [
      "r\n",
      "$\n"
     ]
    },
    {
     "data": {
      "text/plain": [
       "'resta$t'"
      ]
     },
     "execution_count": 16,
     "metadata": {},
     "output_type": "execute_result"
    }
   ],
   "source": [
    "fun(\"restart\")"
   ]
  },
  {
   "cell_type": "code",
   "execution_count": 17,
   "id": "bdbe266a",
   "metadata": {},
   "outputs": [],
   "source": [
    "# Write a Python program to get a single string from two\n",
    "# given strings, separated by a space and swap the first two characters of each string.\n",
    "\n",
    "def mix(a,b):\n",
    "    new_a=b[0]\n",
    "    new_b=a[0]\n",
    "    return new_a+a[1:]+\" \"+new_b+b[1:]"
   ]
  },
  {
   "cell_type": "code",
   "execution_count": 18,
   "id": "4b4f55a5",
   "metadata": {},
   "outputs": [
    {
     "data": {
      "text/plain": [
       "'xbc ayz'"
      ]
     },
     "execution_count": 18,
     "metadata": {},
     "output_type": "execute_result"
    }
   ],
   "source": [
    "mix('abc','xyz')"
   ]
  },
  {
   "cell_type": "code",
   "execution_count": 19,
   "id": "385e85a0",
   "metadata": {},
   "outputs": [],
   "source": [
    "# Write a Python program to add 'ing' at the end of a given string (length should be at least 3).\n",
    "# If the given string is already ends with 'ing' then add 'ly' instead. \n",
    "# If the string length of the given string is less than 3, leave it unchanged.\n",
    "def ing_ly(string):\n",
    "    if len(string)>=3:\n",
    "        if string[-3:]=='ing':\n",
    "            string+='ly'\n",
    "        else:\n",
    "            string+='ing'\n",
    "    else:\n",
    "        print(\"Nothing to worry\")\n",
    "    return string"
   ]
  },
  {
   "cell_type": "code",
   "execution_count": 20,
   "id": "a17c0c56",
   "metadata": {},
   "outputs": [
    {
     "name": "stdout",
     "output_type": "stream",
     "text": [
      "Nothing to worry\n"
     ]
    },
    {
     "data": {
      "text/plain": [
       "'bl'"
      ]
     },
     "execution_count": 20,
     "metadata": {},
     "output_type": "execute_result"
    }
   ],
   "source": [
    "ing_ly('bl')"
   ]
  },
  {
   "cell_type": "code",
   "execution_count": 21,
   "id": "7c0ca025",
   "metadata": {},
   "outputs": [],
   "source": [
    "# Write a Python program to find the first appearance of the substring 'not' and 'poor' \n",
    "# from a given string, if 'bad' follows the 'poor', replace the whole 'not'...'poor' \n",
    "# substring with 'good'. Return the resulting string.\n",
    "\n"
   ]
  },
  {
   "cell_type": "code",
   "execution_count": 22,
   "id": "d1cb61cf",
   "metadata": {},
   "outputs": [],
   "source": [
    "# Write a Python function that takes a list of words and returns the length of the longest one.\n",
    "def max_len_word(*args):\n",
    "    word_len=[]\n",
    "    for arg in args:\n",
    "        word_len.append((len(arg),arg))\n",
    "    word_len.sort(reverse=True)\n",
    "    return word_len[0]"
   ]
  },
  {
   "cell_type": "code",
   "execution_count": 23,
   "id": "3e928b74",
   "metadata": {},
   "outputs": [
    {
     "data": {
      "text/plain": [
       "(12, 'satisfaction')"
      ]
     },
     "execution_count": 23,
     "metadata": {},
     "output_type": "execute_result"
    }
   ],
   "source": [
    "#'hello','have','nice','good','critic','satisfaction','hollland','tu','luffy'\n",
    "max_len_word('hello','have','nice','good','critic','satisfaction','hollland','tu','luffy')"
   ]
  },
  {
   "cell_type": "code",
   "execution_count": 24,
   "id": "dfaffa7b",
   "metadata": {},
   "outputs": [],
   "source": [
    "# Write a Python program to test whether an input is an integer.\n",
    "\n",
    "def test(var):\n",
    "    return type(var)=='int'"
   ]
  },
  {
   "cell_type": "code",
   "execution_count": 25,
   "id": "b66b4f7c",
   "metadata": {},
   "outputs": [
    {
     "data": {
      "text/plain": [
       "False"
      ]
     },
     "execution_count": 25,
     "metadata": {},
     "output_type": "execute_result"
    }
   ],
   "source": [
    "test(3.5)"
   ]
  },
  {
   "cell_type": "code",
   "execution_count": 26,
   "id": "289952ad",
   "metadata": {},
   "outputs": [],
   "source": [
    "# Write a Python program to sort (ascending and descending) a dictionary by value.\n",
    "\n",
    "dic={'z':3,'b':1,'c':2,'a':10,'e':0,'x':6}\n",
    "def sort_value(dic):\n",
    "    return sorted(dic.items(),key=lambda x:x[1])"
   ]
  },
  {
   "cell_type": "code",
   "execution_count": 27,
   "id": "82e0e538",
   "metadata": {},
   "outputs": [
    {
     "data": {
      "text/plain": [
       "[('e', 0), ('b', 1), ('c', 2), ('z', 3), ('x', 6), ('a', 10)]"
      ]
     },
     "execution_count": 27,
     "metadata": {},
     "output_type": "execute_result"
    }
   ],
   "source": [
    "sort_value(dic)"
   ]
  },
  {
   "cell_type": "code",
   "execution_count": 28,
   "id": "f8dfc6db",
   "metadata": {},
   "outputs": [],
   "source": [
    "# Write a Python program to sort (ascending and descending) a dictionary by key value.\n",
    "\n",
    "def sort_key(dic):\n",
    "    return sorted(dic.items())"
   ]
  },
  {
   "cell_type": "code",
   "execution_count": 29,
   "id": "23fc9f3a",
   "metadata": {},
   "outputs": [
    {
     "data": {
      "text/plain": [
       "[('a', 10), ('b', 1), ('c', 2), ('e', 0), ('x', 6), ('z', 3)]"
      ]
     },
     "execution_count": 29,
     "metadata": {},
     "output_type": "execute_result"
    }
   ],
   "source": [
    "dic={'z':3,'b':1,'c':2,'a':10,'e':0,'x':6}\n",
    "sort_key(dic)"
   ]
  },
  {
   "cell_type": "code",
   "execution_count": 30,
   "id": "03ec7244",
   "metadata": {},
   "outputs": [],
   "source": [
    "# Write a Python program to add key to a dictionary.\n",
    "def dic(var,ins_key,ins_val):\n",
    "    var[ins_key]=ins_val\n",
    "    return var"
   ]
  },
  {
   "cell_type": "code",
   "execution_count": 31,
   "id": "d690ef66",
   "metadata": {},
   "outputs": [
    {
     "data": {
      "text/plain": [
       "{'India': 1, 'China': 2, 'USA': 3, 'Indonesia': 4, 'Pakisthan': 5}"
      ]
     },
     "execution_count": 31,
     "metadata": {},
     "output_type": "execute_result"
    }
   ],
   "source": [
    "population={'India':1,'China':2,'USA':3,'Indonesia':4}\n",
    "dic(population,'Pakisthan',5)\n"
   ]
  },
  {
   "cell_type": "code",
   "execution_count": 32,
   "id": "5a86bc6e",
   "metadata": {},
   "outputs": [],
   "source": [
    "population.update({'Nigeria':6,'Brazil':7})"
   ]
  },
  {
   "cell_type": "code",
   "execution_count": 33,
   "id": "5dd2aa0c",
   "metadata": {},
   "outputs": [
    {
     "name": "stdout",
     "output_type": "stream",
     "text": [
      "{'India': 1, 'China': 2, 'USA': 3, 'Indonesia': 4, 'Pakisthan': 5, 'Nigeria': 6, 'Brazil': 7}\n"
     ]
    }
   ],
   "source": [
    "print(population)"
   ]
  },
  {
   "cell_type": "code",
   "execution_count": 34,
   "id": "b2fd6beb",
   "metadata": {},
   "outputs": [],
   "source": [
    "# Write a Python program to concatenate following dictionaries to create a new one.\n",
    "\n",
    "dic1={1:10, 2:20}\n",
    "dic2={3:30, 4:40}\n",
    "dic3={5:50,6:60}\n",
    "\n",
    "def dic_con(*args):\n",
    "    new_dic={}\n",
    "    for arg in args:\n",
    "        new_dic.update(arg)\n",
    "    return new_dic"
   ]
  },
  {
   "cell_type": "code",
   "execution_count": 35,
   "id": "558bdf07",
   "metadata": {},
   "outputs": [
    {
     "data": {
      "text/plain": [
       "{1: 10, 2: 20, 3: 30, 4: 40, 5: 50, 6: 60}"
      ]
     },
     "execution_count": 35,
     "metadata": {},
     "output_type": "execute_result"
    }
   ],
   "source": [
    "dic_con(dic1,dic2,dic3)"
   ]
  },
  {
   "cell_type": "code",
   "execution_count": 36,
   "id": "d47c1e64",
   "metadata": {},
   "outputs": [],
   "source": [
    "# Write a Python program to check if a given key already exists in a dictionary.\n",
    "dic={1: 10, 2: 20, 3: 30, 4: 40, 5: 50, 6: 60}\n",
    "def dic_ser(dic,ser):\n",
    "    if ser in dic.keys():\n",
    "        return True\n",
    "    else:\n",
    "        return False"
   ]
  },
  {
   "cell_type": "code",
   "execution_count": 37,
   "id": "3544cf26",
   "metadata": {},
   "outputs": [
    {
     "data": {
      "text/plain": [
       "True"
      ]
     },
     "execution_count": 37,
     "metadata": {},
     "output_type": "execute_result"
    }
   ],
   "source": [
    "dic_ser(dic,2)"
   ]
  },
  {
   "cell_type": "code",
   "execution_count": 38,
   "id": "79f74e10",
   "metadata": {},
   "outputs": [
    {
     "name": "stdout",
     "output_type": "stream",
     "text": [
      "1 -> 10\n",
      "2 -> 20\n",
      "3 -> 30\n",
      "4 -> 40\n",
      "5 -> 50\n",
      "6 -> 60\n"
     ]
    }
   ],
   "source": [
    "# Write a Python program to iterate over dictionaries using for loops.\n",
    "\n",
    "for key,value in dic.items():\n",
    "    print(key,'->',value)"
   ]
  },
  {
   "cell_type": "code",
   "execution_count": 39,
   "id": "9f0ba1fc",
   "metadata": {},
   "outputs": [
    {
     "name": "stdout",
     "output_type": "stream",
     "text": [
      "[40, 10, 80, 50, 20, 60, 30]\n"
     ]
    }
   ],
   "source": [
    "# Write a Python program to remove duplicates from a list.\n",
    "a = [10,20,30,20,10,50,60,40,80,50,40]\n",
    "c = []\n",
    "b = set(a)\n",
    "new_lst = list(b)\n",
    "print(new_lst)"
   ]
  },
  {
   "cell_type": "code",
   "execution_count": 40,
   "id": "eff51c34",
   "metadata": {},
   "outputs": [
    {
     "name": "stdout",
     "output_type": "stream",
     "text": [
      "List is not empty\n"
     ]
    }
   ],
   "source": [
    "# Write a Python program to check a list is empty or not.\n",
    "if len(b)==0:\n",
    "    print(\"List is empty\")\n",
    "else:\n",
    "    print(\"List is not empty\")"
   ]
  },
  {
   "cell_type": "code",
   "execution_count": 41,
   "id": "7517fb5f",
   "metadata": {},
   "outputs": [],
   "source": [
    "# Write a Python program to remove the nth index character from a non empty string.\n",
    "a = 'Hi, I am not an idiot'\n",
    "def repl_n(a,n):\n",
    "    new_str=a[:n]+a[n+1:]\n",
    "    return new_str\n"
   ]
  },
  {
   "cell_type": "code",
   "execution_count": 42,
   "id": "111c8339",
   "metadata": {},
   "outputs": [
    {
     "data": {
      "text/plain": [
       "'Hi, I a not an idiot'"
      ]
     },
     "execution_count": 42,
     "metadata": {},
     "output_type": "execute_result"
    }
   ],
   "source": [
    "repl_n(a,7)"
   ]
  },
  {
   "cell_type": "code",
   "execution_count": 43,
   "id": "1665fd55",
   "metadata": {},
   "outputs": [],
   "source": [
    "# Write a Python program to change a given string to a new string where the first and last chars have been exchanged.\n",
    "a = 'Hi, I am not an idiot'\n",
    "def str_excha(a):\n",
    "    new_str=a[-1]+a[1:-1]+a[0]\n",
    "    return new_str"
   ]
  },
  {
   "cell_type": "code",
   "execution_count": 44,
   "id": "03dedcc0",
   "metadata": {},
   "outputs": [
    {
     "data": {
      "text/plain": [
       "'ti, I am not an idioH'"
      ]
     },
     "execution_count": 44,
     "metadata": {},
     "output_type": "execute_result"
    }
   ],
   "source": [
    "str_excha(a)"
   ]
  },
  {
   "cell_type": "code",
   "execution_count": 45,
   "id": "0df7a5bf",
   "metadata": {},
   "outputs": [],
   "source": [
    "# Write a Python program to remove the characters which have odd index values of a given string.\n",
    "def str_rem_odd(a):\n",
    "    a=list(a)\n",
    "    new_even=[]\n",
    "    for ind,x in enumerate(a):\n",
    "        if ind%2==0:\n",
    "            new_even.append(x)\n",
    "    return \"\".join(new_even)"
   ]
  },
  {
   "cell_type": "code",
   "execution_count": 46,
   "id": "16cca6c8",
   "metadata": {},
   "outputs": [
    {
     "data": {
      "text/plain": [
       "'H,Ia o niit'"
      ]
     },
     "execution_count": 46,
     "metadata": {},
     "output_type": "execute_result"
    }
   ],
   "source": [
    "a = 'Hi, I am not an idiot'\n",
    "str_rem_odd(a)"
   ]
  },
  {
   "cell_type": "code",
   "execution_count": 55,
   "id": "7589776b",
   "metadata": {},
   "outputs": [],
   "source": [
    "# Write a Python program to find the list of words that are longer than n from a given list of words.\n",
    "lst='Write a Python program to find the list of words that are longer than n from a given list of words.'\n",
    "def long_words(lst,n):\n",
    "    lst=lst.split(\" \")\n",
    "    new_lst=[]\n",
    "    for x in lst:\n",
    "        if len(x)>n:\n",
    "            new_lst.append(x)\n",
    "    return new_lst"
   ]
  },
  {
   "cell_type": "code",
   "execution_count": 57,
   "id": "a3183499",
   "metadata": {},
   "outputs": [
    {
     "data": {
      "text/plain": [
       "['Python', 'program', 'longer', 'words.']"
      ]
     },
     "execution_count": 57,
     "metadata": {},
     "output_type": "execute_result"
    }
   ],
   "source": [
    "long_words(lst,5)"
   ]
  },
  {
   "cell_type": "code",
   "execution_count": 66,
   "id": "33b6ca6e",
   "metadata": {},
   "outputs": [],
   "source": [
    "# Write a Python program to count the occurrences of each word in a given sentence.\n",
    "def occ(var):\n",
    "    dic={}\n",
    "    for x in var:\n",
    "        key=dic.keys()\n",
    "        if x in key:\n",
    "            dic[x]+=1\n",
    "        else:\n",
    "            dic[x]=1\n",
    "    return dic"
   ]
  },
  {
   "cell_type": "code",
   "execution_count": 98,
   "id": "101f5ed0",
   "metadata": {},
   "outputs": [],
   "source": [
    "x=occ('the quick brown fox jumps over the lazy dog.')"
   ]
  },
  {
   "cell_type": "code",
   "execution_count": 169,
   "id": "f78981e0",
   "metadata": {},
   "outputs": [],
   "source": [
    "# Write a Python function that takes two lists and returns True if they have at least one common member.\n",
    "def lst_compa(x,y):\n",
    "    result=False\n",
    "    for a in x:\n",
    "        for b in y:\n",
    "            if a==b:\n",
    "                result=True\n",
    "                return result"
   ]
  },
  {
   "cell_type": "code",
   "execution_count": 170,
   "id": "d16359ed",
   "metadata": {},
   "outputs": [],
   "source": [
    "#lst1=[1,2,3,4,5]\n",
    "#lst2=[6,7,8,9]\n",
    "#lst3=[3,4,5,6]\n",
    "\n",
    "lst_compa([1,2,3,4,5],[6])"
   ]
  },
  {
   "cell_type": "code",
   "execution_count": 181,
   "id": "1ff3550e",
   "metadata": {},
   "outputs": [],
   "source": [
    "# Write a program to add numbers and add a thousand comma seperator to it\n",
    "\n",
    "def add_seperator(a,b):\n",
    "    a=float(a)\n",
    "    b=float(b)\n",
    "    c=a+b\n",
    "    return \"{:,}\".format(c)"
   ]
  },
  {
   "cell_type": "code",
   "execution_count": 185,
   "id": "258dff2b",
   "metadata": {},
   "outputs": [
    {
     "data": {
      "text/plain": [
       "'70,002,000.018'"
      ]
     },
     "execution_count": 185,
     "metadata": {},
     "output_type": "execute_result"
    }
   ],
   "source": [
    "add_seperator(2000.009,70000000.009)"
   ]
  },
  {
   "cell_type": "code",
   "execution_count": 195,
   "id": "16e0edc6",
   "metadata": {},
   "outputs": [],
   "source": [
    "# Find all of the numbers from 1-1000 that are divisible by 7\n",
    "\n",
    "result=[num7 for num7 in range(1,1000) if num7%7==0]"
   ]
  },
  {
   "cell_type": "code",
   "execution_count": 196,
   "id": "66d12c9e",
   "metadata": {},
   "outputs": [
    {
     "name": "stdout",
     "output_type": "stream",
     "text": [
      "[7, 14, 21, 28, 35, 42, 49, 56, 63, 70, 77, 84, 91, 98, 105, 112, 119, 126, 133, 140, 147, 154, 161, 168, 175, 182, 189, 196, 203, 210, 217, 224, 231, 238, 245, 252, 259, 266, 273, 280, 287, 294, 301, 308, 315, 322, 329, 336, 343, 350, 357, 364, 371, 378, 385, 392, 399, 406, 413, 420, 427, 434, 441, 448, 455, 462, 469, 476, 483, 490, 497, 504, 511, 518, 525, 532, 539, 546, 553, 560, 567, 574, 581, 588, 595, 602, 609, 616, 623, 630, 637, 644, 651, 658, 665, 672, 679, 686, 693, 700, 707, 714, 721, 728, 735, 742, 749, 756, 763, 770, 777, 784, 791, 798, 805, 812, 819, 826, 833, 840, 847, 854, 861, 868, 875, 882, 889, 896, 903, 910, 917, 924, 931, 938, 945, 952, 959, 966, 973, 980, 987, 994]\n"
     ]
    }
   ],
   "source": [
    "print(result)"
   ]
  },
  {
   "cell_type": "code",
   "execution_count": 206,
   "id": "e3e166f0",
   "metadata": {},
   "outputs": [],
   "source": [
    "# Find all of the numbers from 1-1000 that have a 3 in them\n",
    "result=[num for num in range(1,1001) if '3' in str(num)]"
   ]
  },
  {
   "cell_type": "code",
   "execution_count": 207,
   "id": "a4e1a111",
   "metadata": {},
   "outputs": [
    {
     "name": "stdout",
     "output_type": "stream",
     "text": [
      "[3, 13, 23, 30, 31, 32, 33, 34, 35, 36, 37, 38, 39, 43, 53, 63, 73, 83, 93, 103, 113, 123, 130, 131, 132, 133, 134, 135, 136, 137, 138, 139, 143, 153, 163, 173, 183, 193, 203, 213, 223, 230, 231, 232, 233, 234, 235, 236, 237, 238, 239, 243, 253, 263, 273, 283, 293, 300, 301, 302, 303, 304, 305, 306, 307, 308, 309, 310, 311, 312, 313, 314, 315, 316, 317, 318, 319, 320, 321, 322, 323, 324, 325, 326, 327, 328, 329, 330, 331, 332, 333, 334, 335, 336, 337, 338, 339, 340, 341, 342, 343, 344, 345, 346, 347, 348, 349, 350, 351, 352, 353, 354, 355, 356, 357, 358, 359, 360, 361, 362, 363, 364, 365, 366, 367, 368, 369, 370, 371, 372, 373, 374, 375, 376, 377, 378, 379, 380, 381, 382, 383, 384, 385, 386, 387, 388, 389, 390, 391, 392, 393, 394, 395, 396, 397, 398, 399, 403, 413, 423, 430, 431, 432, 433, 434, 435, 436, 437, 438, 439, 443, 453, 463, 473, 483, 493, 503, 513, 523, 530, 531, 532, 533, 534, 535, 536, 537, 538, 539, 543, 553, 563, 573, 583, 593, 603, 613, 623, 630, 631, 632, 633, 634, 635, 636, 637, 638, 639, 643, 653, 663, 673, 683, 693, 703, 713, 723, 730, 731, 732, 733, 734, 735, 736, 737, 738, 739, 743, 753, 763, 773, 783, 793, 803, 813, 823, 830, 831, 832, 833, 834, 835, 836, 837, 838, 839, 843, 853, 863, 873, 883, 893, 903, 913, 923, 930, 931, 932, 933, 934, 935, 936, 937, 938, 939, 943, 953, 963, 973, 983, 993]\n"
     ]
    }
   ],
   "source": [
    "print(result)"
   ]
  },
  {
   "cell_type": "code",
   "execution_count": 225,
   "id": "31122e00",
   "metadata": {},
   "outputs": [
    {
     "name": "stdout",
     "output_type": "stream",
     "text": [
      "8\n"
     ]
    }
   ],
   "source": [
    "# Count the number of spaces in the string\n",
    "string='the quick brown fox jumps over the lazy dog.'\n",
    "result=[c for x in string if ' ' in x]\n",
    "print(len(result))"
   ]
  },
  {
   "cell_type": "code",
   "execution_count": 229,
   "id": "3d22f2d0",
   "metadata": {},
   "outputs": [
    {
     "name": "stdout",
     "output_type": "stream",
     "text": [
      "['Y', 'l', 'l', 'w', 'Y', 'k', 's', 'l', 'k', 'y', 'l', 'l', 'n', 'g', 'n', 'd', 'y', 'w', 'n', 'n', 'g', 'n', 'd', 'y', 's', 't', 'r', 'd', 'y', 't', 'h', 'y', 'y', 'd', 'l', 'd', 'w', 'h', 'l', 't', 'n', 'g', 'y', 'k', 'y', 'y']\n"
     ]
    }
   ],
   "source": [
    "# Create a list of all the consonants in the string\n",
    "# “Yellow Yaks like yelling and yawning and yesturday they yodled while eating yuky yams”\n",
    "sen = \"Yellow Yaks like yelling and yawning and yesturday they yodled while eating yuky ya\"\n",
    "print([x for x in sen if x not in ['a','e','i','o','u',' ']])"
   ]
  },
  {
   "cell_type": "code",
   "execution_count": 236,
   "id": "751c9abc",
   "metadata": {},
   "outputs": [
    {
     "name": "stdout",
     "output_type": "stream",
     "text": [
      "[(0, 'hi'), (1, 4), (2, 8.99), (3, 'apple'), (4, ('t,b', 'n'))]\n"
     ]
    }
   ],
   "source": [
    "# Get the index and the value as a tuple for items in the \n",
    "# list “hi”, 4, 8.99, ‘apple’, (‘t,b’,’n’). Result would look like (index, value), (index, value)\n",
    "lst=[\"hi\", 4, 8.99, 'apple', ('t,b','n')]\n",
    "print([(index,value) for index,value in enumerate(lst)])"
   ]
  },
  {
   "cell_type": "code",
   "execution_count": 240,
   "id": "26b9edf5",
   "metadata": {},
   "outputs": [
    {
     "name": "stdout",
     "output_type": "stream",
     "text": [
      "[2, 3, 4]\n"
     ]
    }
   ],
   "source": [
    "# Find the common numbers in two lists (without using a tuple or set) list_a = 1, 2, 3, 4, list_b = 2, 3, 4, 5\n",
    "lst_a = [1, 2, 3,4] \n",
    "lst_b = [2, 3, 4, 5]\n",
    "print([x for x in lst_a for y in lst_b if x==y])"
   ]
  },
  {
   "cell_type": "code",
   "execution_count": 248,
   "id": "5f87025e",
   "metadata": {},
   "outputs": [
    {
     "name": "stdout",
     "output_type": "stream",
     "text": [
      "['1984', '13', '1000']\n"
     ]
    }
   ],
   "source": [
    "# Get only the numbers in a sentence like ‘In 1984 there were 13 instances of a protest with over 1000 people attending’\n",
    "string='In 1984 there were 13 instances of a protest with over 1000 people attending'\n",
    "print([x for x in string.split(\" \") if x.isdigit()])"
   ]
  },
  {
   "cell_type": "code",
   "execution_count": 254,
   "id": "7ad1bcb0",
   "metadata": {},
   "outputs": [
    {
     "name": "stdout",
     "output_type": "stream",
     "text": [
      "[('Even', 0), ('Odd', 1), ('Even', 2), ('Odd', 3), ('Even', 4), ('Odd', 5), ('Even', 6), ('Odd', 7), ('Even', 8), ('Odd', 9), ('Even', 10), ('Odd', 11), ('Even', 12), ('Odd', 13), ('Even', 14), ('Odd', 15), ('Even', 16), ('Odd', 17), ('Even', 18), ('Odd', 19)]\n"
     ]
    }
   ],
   "source": [
    "# Given numbers = range(20), produce a list containing the word ‘even’ if a number in \n",
    "# the numbers is even, and the word ‘odd’ if the number is odd. Result would look like ‘odd’,’odd’, ‘even’\n",
    "print([('Even',x) if x%2==0 else ('Odd',x) for x in range(20) ])"
   ]
  },
  {
   "cell_type": "code",
   "execution_count": 255,
   "id": "7df732d5",
   "metadata": {},
   "outputs": [
    {
     "name": "stdout",
     "output_type": "stream",
     "text": [
      "[(1, 1), (2, 2), (7, 7)]\n"
     ]
    }
   ],
   "source": [
    "# Produce a list of tuples consisting of only the matching numbers in these \n",
    "# lists list_a = 1, 2, 3,4,5,6,7,8,9, list_b = 2, 7, 1, 12. Result would look like (4,4), (12,12)\n",
    "lst_a = [1, 2, 3,4,5,6,7,8,9]\n",
    "lst_b = [2, 7, 1, 12]\n",
    "print([(x,y) for x in lst_a for y in lst_b if x==y])"
   ]
  },
  {
   "cell_type": "code",
   "execution_count": 257,
   "id": "543c1c99",
   "metadata": {},
   "outputs": [
    {
     "name": "stdout",
     "output_type": "stream",
     "text": [
      "['In', '13', 'of', 'a']\n"
     ]
    }
   ],
   "source": [
    "# Find all of the words in a string that are less than 4 letters\n",
    "stri='In 1984 there were 13 instances of a protest with over 1000 people attending'\n",
    "print([x for x in stri.split(\" \") if len(x)<4])"
   ]
  },
  {
   "cell_type": "code",
   "execution_count": 266,
   "id": "2874fc09",
   "metadata": {},
   "outputs": [
    {
     "name": "stdout",
     "output_type": "stream",
     "text": [
      "[2, 3, 4, 5, 6, 7, 8, 9, 10, 12, 14, 15, 16, 18, 20, 21, 22, 24, 25, 26, 27, 28, 30, 32, 33, 34, 35, 36, 38, 39, 40, 42, 44, 45, 46, 48, 49, 50, 51, 52, 54, 55, 56, 57, 58, 60, 62, 63, 64, 65, 66, 68, 69, 70, 72, 74, 75, 76, 77, 78, 80, 81, 82, 84, 85, 86, 87, 88, 90, 91, 92, 93, 94, 95, 96, 98, 99]\n"
     ]
    }
   ],
   "source": [
    "# Use a nested list comprehension to find all of the numbers from 1-1000 that are divisible by any single digit besides 1 (2-9)\n",
    "print([x for x in range(1,100) for y in range(2,10) if x%y==0])"
   ]
  },
  {
   "cell_type": "code",
   "execution_count": 260,
   "id": "3423275b",
   "metadata": {},
   "outputs": [
    {
     "name": "stdout",
     "output_type": "stream",
     "text": [
      "[2, 3, 4, 5, 6, 7, 8, 9, 10, 12, 14, 15, 16, 18, 20, 21, 22, 24, 25, 26, 27, 28, 30, 32, 33, 34, 35, 36, 38, 39, 40, 42, 44, 45, 46, 48, 49, 50, 51, 52, 54, 55, 56, 57, 58, 60, 62, 63, 64, 65, 66, 68, 69, 70, 72, 74, 75, 76, 77, 78, 80, 81, 82, 84, 85, 86, 87, 88, 90, 91, 92, 93, 94, 95, 96, 98, 99]\n"
     ]
    }
   ],
   "source": [
    "result = [number for number in range(1,100) if True in [True for x in range(2,10) if number % x == 0]]\n",
    "print(result)"
   ]
  },
  {
   "cell_type": "code",
   "execution_count": 270,
   "id": "cf42460b",
   "metadata": {},
   "outputs": [
    {
     "name": "stdout",
     "output_type": "stream",
     "text": [
      "{'NY': 'NY', 'FL': 'FL', 'CA': 'CA', 'VT': 'VT'}\n"
     ]
    }
   ],
   "source": [
    "# Create a dictionary from the list with same key:value pairs, such as: {\"key\": \"key\"}.\n",
    "lst=[\"NY\", \"FL\", \"CA\", \"VT\"]\n",
    "print({key:key for key in lst})"
   ]
  },
  {
   "cell_type": "code",
   "execution_count": 272,
   "id": "bfd7fd9f",
   "metadata": {},
   "outputs": [
    {
     "name": "stdout",
     "output_type": "stream",
     "text": [
      "{100: 1.0, 110: 1.1, 120: 1.2, 130: 1.3, 140: 1.4, 150: 1.5}\n"
     ]
    }
   ],
   "source": [
    "# First, create a range from 100 to 160 with steps of 10.Second, using dict comprehension, \n",
    "# create a dictionary where each number in the range is the key and each item divided by 100 is the value.\n",
    "print({num:num/100 for num in range(100,160,10)})"
   ]
  },
  {
   "cell_type": "code",
   "execution_count": 287,
   "id": "d0bda43c",
   "metadata": {},
   "outputs": [
    {
     "name": "stdout",
     "output_type": "stream",
     "text": [
      "{'NFLX': 4950, 'TREX': 2400}\n"
     ]
    }
   ],
   "source": [
    "# Using dict comprehension and a conditional argument create a dictionary from the current dictionary \n",
    "# where only the key:value pairs with value above 2000 are taken to the new dictionary.\n",
    "dict1={\"NFLX\":4950,\"TREX\":2400,\"FIZZ\":1800, \"XPO\":1700}\n",
    "print({key:value for key,value in dict1.items() if value>2000})"
   ]
  },
  {
   "cell_type": "code",
   "execution_count": 297,
   "id": "5d19d0a5",
   "metadata": {},
   "outputs": [
    {
     "name": "stdout",
     "output_type": "stream",
     "text": [
      "{'Ten': 10, 'Twenty': 20, 'Thirty': 30}\n",
      "{'Ten': 10, 'Twenty': 20, 'Thirty': 30}\n"
     ]
    }
   ],
   "source": [
    "# Convert two lists into a dictionary\n",
    "keys = ['Ten', 'Twenty', 'Thirty']\n",
    "values = [10, 20, 30]\n",
    "print({k:v for i,k in enumerate(keys) for j,v in enumerate(values) if i==j})\n",
    "print({keys[i]: values[i] for i in range(len(keys))})"
   ]
  },
  {
   "cell_type": "code",
   "execution_count": 300,
   "id": "f04782df",
   "metadata": {},
   "outputs": [
    {
     "data": {
      "text/plain": [
       "{'Ten': 10, 'Twenty': 20, 'Thirty': 30, 'Fourty': 40, 'Fifty': 50}"
      ]
     },
     "execution_count": 300,
     "metadata": {},
     "output_type": "execute_result"
    }
   ],
   "source": [
    "# write a python code to add two dictionaries\n",
    "dict1 = {'Ten': 10, 'Twenty': 20, 'Thirty': 30}\n",
    "dict2 = {'Thirty': 30, 'Fourty': 40, 'Fifty': 50}\n",
    "dict1.update(dict2)\n",
    "dict1"
   ]
  },
  {
   "cell_type": "code",
   "execution_count": 304,
   "id": "934db39b",
   "metadata": {},
   "outputs": [
    {
     "name": "stdout",
     "output_type": "stream",
     "text": [
      "[1, 4, 9, 16, 25]\n"
     ]
    }
   ],
   "source": [
    "# map code\n",
    "# Define a function to square a number\n",
    "def square(x):\n",
    "    return x ** 2\n",
    "\n",
    "# Define a list of numbers\n",
    "numbers = [1, 2, 3, 4, 5]\n",
    "\n",
    "# Use map() to apply the square() function to each element of the list\n",
    "squares = map(square, numbers)\n",
    "\n",
    "# Print the list of squares\n",
    "print(list(squares)) # Output: [1, 4, 9, 16, 25]\n"
   ]
  },
  {
   "cell_type": "code",
   "execution_count": 307,
   "id": "c2ef74d3",
   "metadata": {},
   "outputs": [
    {
     "name": "stdout",
     "output_type": "stream",
     "text": [
      "10\n",
      "2 3 4 5 5 6 6 7 8 9\n",
      "6\n",
      "0\n",
      "6 55\n",
      "1\n",
      "6 45\n",
      "2\n",
      "6 55\n",
      "3\n",
      "4 40\n",
      "4\n",
      "18 62\n",
      "5\n",
      "10 40\n",
      "0\n"
     ]
    }
   ],
   "source": [
    "# hacker rank\n",
    "X=int(input())\n",
    "lst = [map(int,input().split())]\n",
    "N= int(input())\n",
    "s=0\n",
    "for x in range(N):\n",
    "    print(x)\n",
    "    i=[map(int,input().split())]\n",
    "    if i[0] in lst:\n",
    "        s+=i[1]\n",
    "        lst.remove(i[0])\n",
    "print(s)"
   ]
  },
  {
   "cell_type": "code",
   "execution_count": 319,
   "id": "9ef1f325",
   "metadata": {},
   "outputs": [
    {
     "name": "stdout",
     "output_type": "stream",
     "text": [
      "0\n"
     ]
    }
   ],
   "source": [
    "print(s)"
   ]
  },
  {
   "cell_type": "code",
   "execution_count": 330,
   "id": "fe20f4c6",
   "metadata": {},
   "outputs": [
    {
     "name": "stdout",
     "output_type": "stream",
     "text": [
      "Welcome to the Tip calculator\n",
      "What was the totalbill? $124.56\n",
      "What percentage tip would you like to give? 10, 12, or 15? 12\n",
      "How many people to split the bill? 7\n",
      "Each person should pay: $19.93\n"
     ]
    }
   ],
   "source": [
    "# Tip calculator program\n",
    "print(\"Welcome to the Tip calculator\")\n",
    "amt=input(\"What was the totalbill? $\")\n",
    "amt=float(amt)\n",
    "per=input(\"What percentage tip would you like to give? 10, 12, or 15? \")\n",
    "amt=amt+amt*(int(per)/100)\n",
    "spl=input(\"How many people to split the bill? \")\n",
    "fin_amt=amt/int(spl)\n",
    "print(f\"Each person should pay: ${fin_amt:.2f}\")\n"
   ]
  },
  {
   "cell_type": "code",
   "execution_count": 336,
   "id": "be863a73",
   "metadata": {},
   "outputs": [
    {
     "name": "stdout",
     "output_type": "stream",
     "text": [
      "100,000,000\n"
     ]
    }
   ],
   "source": [
    "# How to add a thousand separator\n",
    "x=100000000\n",
    "print(f'{x:,}')"
   ]
  },
  {
   "cell_type": "code",
   "execution_count": 339,
   "id": "bd07eb8f",
   "metadata": {},
   "outputs": [
    {
     "data": {
      "text/plain": [
       "5"
      ]
     },
     "execution_count": 339,
     "metadata": {},
     "output_type": "execute_result"
    }
   ],
   "source": [
    "x=5.4\n",
    "round(x)"
   ]
  },
  {
   "cell_type": "code",
   "execution_count": 346,
   "id": "543ccc69",
   "metadata": {},
   "outputs": [
    {
     "name": "stdout",
     "output_type": "stream",
     "text": [
      "Enter a year: 1900\n"
     ]
    }
   ],
   "source": [
    "#leap year\n",
    "year= int(input(\"Enter a year: \"))\n",
    "if year%4==0:\n",
    "    if year%100!=0:\n",
    "        if year%400==0:\n",
    "            print(\"Leap\")\n",
    "        else:\n",
    "            print(\"Not leap\")"
   ]
  },
  {
   "cell_type": "code",
   "execution_count": 355,
   "id": "22a02822",
   "metadata": {},
   "outputs": [
    {
     "name": "stdout",
     "output_type": "stream",
     "text": [
      "Enter a year: 1904\n",
      "Leap\n"
     ]
    }
   ],
   "source": [
    "# leap 2 method\n",
    "year= int(input(\"Enter a year: \"))\n",
    "if year%4==0:\n",
    "    if year%100==0:\n",
    "        if year%400==0:\n",
    "            print(\"Leap year\")\n",
    "        else:\n",
    "            print(\"Not leap\")\n",
    "    else:\n",
    "        print(\"Leap\")\n",
    "else:\n",
    "    print(\"Not leap\")"
   ]
  },
  {
   "cell_type": "code",
   "execution_count": 357,
   "id": "fcaec85c",
   "metadata": {},
   "outputs": [
    {
     "name": "stdout",
     "output_type": "stream",
     "text": [
      "dilip\n"
     ]
    }
   ],
   "source": [
    "name=\"Dilip\"\n",
    "name.lower()\n",
    "print(name.lower())"
   ]
  },
  {
   "cell_type": "code",
   "execution_count": 361,
   "id": "7304bddf",
   "metadata": {},
   "outputs": [
    {
     "name": "stdout",
     "output_type": "stream",
     "text": [
      "\n",
      "*******************************************************************************\n",
      "          |                   |                  |                     |\n",
      " _________|________________.=\"\"_;=.______________|_____________________|_______\n",
      "|                   |  ,-\"_,=\"\"     `\"=.|                  |\n",
      "|___________________|__\"=._o`\"-._        `\"=.______________|___________________\n",
      "          |                `\"=._o`\"=._      _`\"=._                     |\n",
      " _________|_____________________:=._o \"=._.\"_.-=\"'\"=.__________________|_______\n",
      "|                   |    __.--\" , ; `\"=._o.\" ,-\"\"\"-._ \".   |\n",
      "|___________________|_._\"  ,. .` ` `` ,  `\"-._\"-._   \". '__|___________________\n",
      "          |           |o`\"=._` , \"` `; .\". ,  \"-._\"-._; ;              |\n",
      " _________|___________| ;`-.o`\"=._; .\" ` '`.\"\\` . \"-._ /_______________|_______\n",
      "|                   | |o;    `\"-.o`\"=._``  '` \" ,__.--o;   |\n",
      "|___________________|_| ;     (#) `-.o `\"=.`_.--\"_o.-; ;___|___________________\n",
      "____/______/______/___|o;._    \"      `\".o|o_.--\"    ;o;____/______/______/____\n",
      "/______/______/______/_\"=._o--._        ; | ;        ; ;/______/______/______/_\n",
      "____/______/______/______/__\"=._o--._   ;o|o;     _._;o;____/______/______/____\n",
      "/______/______/______/______/____\"=._o._; | ;_.--\"o.--\"_/______/______/______/_\n",
      "____/______/______/______/______/_____\"=.o|o_.--\"\"___/______/______/______/____\n",
      "/______/______/______/______/______/______/______/______/______/______/_____ /\n",
      "*******************************************************************************\n",
      "\n",
      "Welcome to Treasure Island.\n",
      "Your mission is to find the treasure.\n",
      "You\"re at a cross road. Where do you want to go? Type 'left' or 'right': right\n",
      "Game Over.\n"
     ]
    }
   ],
   "source": [
    "print('''\n",
    "*******************************************************************************\n",
    "          |                   |                  |                     |\n",
    " _________|________________.=\"\"_;=.______________|_____________________|_______\n",
    "|                   |  ,-\"_,=\"\"     `\"=.|                  |\n",
    "|___________________|__\"=._o`\"-._        `\"=.______________|___________________\n",
    "          |                `\"=._o`\"=._      _`\"=._                     |\n",
    " _________|_____________________:=._o \"=._.\"_.-=\"'\"=.__________________|_______\n",
    "|                   |    __.--\" , ; `\"=._o.\" ,-\"\"\"-._ \".   |\n",
    "|___________________|_._\"  ,. .` ` `` ,  `\"-._\"-._   \". '__|___________________\n",
    "          |           |o`\"=._` , \"` `; .\". ,  \"-._\"-._; ;              |\n",
    " _________|___________| ;`-.o`\"=._; .\" ` '`.\"\\` . \"-._ /_______________|_______\n",
    "|                   | |o;    `\"-.o`\"=._``  '` \" ,__.--o;   |\n",
    "|___________________|_| ;     (#) `-.o `\"=.`_.--\"_o.-; ;___|___________________\n",
    "____/______/______/___|o;._    \"      `\".o|o_.--\"    ;o;____/______/______/____\n",
    "/______/______/______/_\"=._o--._        ; | ;        ; ;/______/______/______/_\n",
    "____/______/______/______/__\"=._o--._   ;o|o;     _._;o;____/______/______/____\n",
    "/______/______/______/______/____\"=._o._; | ;_.--\"o.--\"_/______/______/______/_\n",
    "____/______/______/______/______/_____\"=.o|o_.--\"\"___/______/______/______/____\n",
    "/______/______/______/______/______/______/______/______/______/______/_____ /\n",
    "*******************************************************************************\n",
    "''')\n",
    "print(\"Welcome to Treasure Island.\")\n",
    "print(\"Your mission is to find the treasure.\") \n",
    "\n",
    "#https://www.draw.io/?lightbox=1&highlight=0000ff&edit=_blank&layers=1&nav=1&title=Treasure%20Island%20Conditional.drawio#Uhttps%3A%2F%2Fdrive.google.com%2Fuc%3Fid%3D1oDe4ehjWZipYRsVfeAx2HyB7LCQ8_Fvi%26export%3Ddownload\n",
    "\n",
    "#Write your code below this line 👇\n",
    "\n",
    "direction=input(\"You\\\"re at a cross road. Where do you want to go? Type 'left' or 'right': \")\n",
    "direction=direction.upper()\n",
    "if direction==\"LEFT\":\n",
    "    patience=input(\"You came to a lake. There is an island inthe middle of the lake. Type 'wait' to wait for boat. Type 'swim' to swim across.: \")\n",
    "    patience=patience.upper()\n",
    "    if patience=='WAIT':\n",
    "        door=input(\"You arrived at the island unharmed. There is ahouse with 3 doors. One red, one yellow, and one blue. Which colour do you choose?: \")\n",
    "        door=door.upper()\n",
    "        if door=='YELLOW':\n",
    "            print(\"You wont the game the room is full of treasure\")\n",
    "        else:\n",
    "            print(\"Game Over.\")\n",
    "    else:\n",
    "        print(\"Game Over.\")\n",
    "else:\n",
    "    print(\"Game Over.\")"
   ]
  },
  {
   "cell_type": "code",
   "execution_count": 408,
   "id": "f9327a85",
   "metadata": {},
   "outputs": [],
   "source": [
    "\n",
    "class Dog:\n",
    "    # Class Object Attribute\n",
    "    #Same of any instance of the class\n",
    "    species='Mammal'\n",
    "    def __init__(self,breed,color,name,spots):\n",
    "        #Attributes\n",
    "        #We take in the argument\n",
    "        #Assign it using self.attribute_name\n",
    "        self.breed=breed\n",
    "        self.color=color\n",
    "        self.name=name\n",
    "        self.spots=spots\n",
    "    def bark(self):\n",
    "        print(f\"Whoof!! My name is {self.name}\")"
   ]
  },
  {
   "cell_type": "code",
   "execution_count": 410,
   "id": "1d3f3a8e",
   "metadata": {},
   "outputs": [],
   "source": [
    "my_dog=Dog('Husky','BW','Miller',False)"
   ]
  },
  {
   "cell_type": "code",
   "execution_count": 412,
   "id": "f2ae6be6",
   "metadata": {},
   "outputs": [
    {
     "name": "stdout",
     "output_type": "stream",
     "text": [
      "Whoof!! My name is Miller\n"
     ]
    }
   ],
   "source": [
    "# methods should be called with \"()\" if not specified then it will return the address of the bark method\n",
    "my_dog.bark()"
   ]
  },
  {
   "cell_type": "code",
   "execution_count": 411,
   "id": "d7e2681b",
   "metadata": {},
   "outputs": [
    {
     "data": {
      "text/plain": [
       "'Miller'"
      ]
     },
     "execution_count": 411,
     "metadata": {},
     "output_type": "execute_result"
    }
   ],
   "source": [
    "# Attributes are called without\"()\"\n",
    "my_dog.name"
   ]
  },
  {
   "cell_type": "code",
   "execution_count": 407,
   "id": "8cb21806",
   "metadata": {},
   "outputs": [
    {
     "ename": "TypeError",
     "evalue": "'str' object is not callable",
     "output_type": "error",
     "traceback": [
      "\u001b[1;31m---------------------------------------------------------------------------\u001b[0m",
      "\u001b[1;31mTypeError\u001b[0m                                 Traceback (most recent call last)",
      "Cell \u001b[1;32mIn[407], line 2\u001b[0m\n\u001b[0;32m      1\u001b[0m \u001b[38;5;66;03m# This will throw TypeError\u001b[39;00m\n\u001b[1;32m----> 2\u001b[0m \u001b[43mmy_dog\u001b[49m\u001b[38;5;241;43m.\u001b[39;49m\u001b[43mname\u001b[49m\u001b[43m(\u001b[49m\u001b[43m)\u001b[49m\n",
      "\u001b[1;31mTypeError\u001b[0m: 'str' object is not callable"
     ]
    }
   ],
   "source": [
    "# This will throw TypeError\n",
    "my_dog.name()"
   ]
  },
  {
   "cell_type": "code",
   "execution_count": 413,
   "id": "e533eb93",
   "metadata": {},
   "outputs": [
    {
     "name": "stdout",
     "output_type": "stream",
     "text": [
      "__module__\n",
      "species\n",
      "__init__\n",
      "bark\n",
      "__dict__\n",
      "__weakref__\n",
      "__doc__\n"
     ]
    }
   ],
   "source": [
    "for x in Dog.__dict__:\n",
    "    print(x)"
   ]
  },
  {
   "cell_type": "code",
   "execution_count": 379,
   "id": "0bbd420f",
   "metadata": {},
   "outputs": [
    {
     "name": "stdout",
     "output_type": "stream",
     "text": [
      "array('i', [1, 2, 3, 4, 5])\n"
     ]
    }
   ],
   "source": [
    "import array\n",
    "\n",
    "# create an array of integers\n",
    "arr = array.array('i', [1, 2, 3, 4, 5])\n",
    "\n",
    "# print the array\n",
    "print(arr)"
   ]
  },
  {
   "cell_type": "code",
   "execution_count": 364,
   "id": "f7319196",
   "metadata": {},
   "outputs": [
    {
     "name": "stdout",
     "output_type": "stream",
     "text": [
      "__name__\n",
      "__doc__\n",
      "__package__\n",
      "__loader__\n",
      "__spec__\n",
      "_array_reconstructor\n",
      "ArrayType\n",
      "array\n",
      "typecodes\n"
     ]
    }
   ],
   "source": [
    "# Write a Python program to import a built-in array module and display the namespace of the said module.\n",
    "import array\n",
    "for x in array.__dict__:\n",
    "    print(x)"
   ]
  },
  {
   "cell_type": "code",
   "execution_count": 448,
   "id": "cacd08b8",
   "metadata": {},
   "outputs": [
    {
     "name": "stdout",
     "output_type": "stream",
     "text": [
      "__module__\n",
      "species\n",
      "__init__\n",
      "bark\n",
      "__dict__\n",
      "__weakref__\n",
      "__doc__\n"
     ]
    }
   ],
   "source": [
    "# Write a Python program to create a class and display the namespace of that class.\n",
    "class Dog:\n",
    "    # Class Object Attribute\n",
    "    #Same of any instance of the class\n",
    "    species='Mammal'\n",
    "    def __init__(self,breed,color,name,spots):\n",
    "        #Attributes\n",
    "        #We take in the argument\n",
    "        #Assign it using self.attribute_name\n",
    "        self.breed=breed\n",
    "        self.color=color\n",
    "        self.name=name\n",
    "        self.spots=spots\n",
    "        # Passing arguments to methods\n",
    "        # can aslo specify the fixed value to Id like \"Id=25141\"\n",
    "    def bark(self,Id=0):\n",
    "        print(f\"Whoof!! My name is {self.name}, my Id is {Id}\")\n",
    "\n",
    "for x in Dog.__dict__:\n",
    "    print(x)"
   ]
  },
  {
   "cell_type": "code",
   "execution_count": 449,
   "id": "5c3ef9f9",
   "metadata": {},
   "outputs": [
    {
     "name": "stdout",
     "output_type": "stream",
     "text": [
      "Whoof!! My name is Bull, my Id is 5\n"
     ]
    }
   ],
   "source": [
    "dog1.bark(5)"
   ]
  },
  {
   "cell_type": "code",
   "execution_count": 461,
   "id": "dba96e4e",
   "metadata": {},
   "outputs": [],
   "source": [
    "# Inheritance\n",
    "class Animal:\n",
    "    def __init__(self):\n",
    "        print(\"Animal Created\")\n",
    "    def who_am_i(self):\n",
    "        print(\"I am an animal\")\n",
    "    def eat(self):\n",
    "        print(\"I am eating\")"
   ]
  },
  {
   "cell_type": "code",
   "execution_count": 462,
   "id": "4e760844",
   "metadata": {},
   "outputs": [],
   "source": [
    "class Dog(Animal):\n",
    "    def __init__(self):\n",
    "        Animal.__init__(self)\n",
    "        print(\"Dog created\")\n",
    "    def who_am_i(self):\n",
    "        print(\"I am Dog! whooof\")"
   ]
  },
  {
   "cell_type": "code",
   "execution_count": 463,
   "id": "ce367ce1",
   "metadata": {},
   "outputs": [
    {
     "name": "stdout",
     "output_type": "stream",
     "text": [
      "Animal Created\n",
      "Dog created\n"
     ]
    }
   ],
   "source": [
    "my_dog=Dog()"
   ]
  },
  {
   "cell_type": "code",
   "execution_count": 464,
   "id": "5cb0abf8",
   "metadata": {},
   "outputs": [
    {
     "name": "stdout",
     "output_type": "stream",
     "text": [
      "I am Dog! whooof\n"
     ]
    }
   ],
   "source": [
    "my_dog.who_am_i()"
   ]
  },
  {
   "cell_type": "code",
   "execution_count": 475,
   "id": "da414484",
   "metadata": {},
   "outputs": [],
   "source": [
    "# Polymorphism\n",
    "class dog():\n",
    "    def __init__(self,name):\n",
    "        self.name=name\n",
    "    def speak(self):\n",
    "        return self.name+\" Whoof!!\"\n",
    "    \n",
    "class cat():\n",
    "    def __init__(self,name):\n",
    "        self.name=name\n",
    "    def speak(self):\n",
    "        return self.name+\" Meow!!\""
   ]
  },
  {
   "cell_type": "code",
   "execution_count": 476,
   "id": "fe37123d",
   "metadata": {},
   "outputs": [],
   "source": [
    "my_dog=dog('nico')\n",
    "my_cat=cat('lobin')"
   ]
  },
  {
   "cell_type": "code",
   "execution_count": 477,
   "id": "a5be352b",
   "metadata": {},
   "outputs": [
    {
     "name": "stdout",
     "output_type": "stream",
     "text": [
      "nico Whoof!!\n",
      "lobin Meow!!\n"
     ]
    }
   ],
   "source": [
    "print(my_dog.speak())\n",
    "print(my_cat.speak())"
   ]
  },
  {
   "cell_type": "code",
   "execution_count": 446,
   "id": "f35d4dbc",
   "metadata": {},
   "outputs": [
    {
     "name": "stdout",
     "output_type": "stream",
     "text": [
      "{'breed': 'Pitbull', 'color': 'Brown', 'name': 'Bull', 'spots': False}\n"
     ]
    }
   ],
   "source": [
    "# Write a Python program to create an instance of a specified class and display the namespace of the said instance.\n",
    "\n",
    "dog1=Dog('Pitbull','Brown','Bull',False)\n",
    "print(dog1.__dict__)"
   ]
  },
  {
   "cell_type": "code",
   "execution_count": 429,
   "id": "f0b36005",
   "metadata": {},
   "outputs": [
    {
     "name": "stdout",
     "output_type": "stream",
     "text": [
      "Help on built-in function abs in module builtins:\n",
      "\n",
      "abs(x, /)\n",
      "    Return the absolute value of the argument.\n",
      "\n",
      "115\n"
     ]
    }
   ],
   "source": [
    "#'builtins' module provides direct access to all 'built-in' identifiers of Python.\n",
    "# Write a Python program that imports the abs() function using the builtins module, displays the \n",
    "# documentation of the abs() function and finds the absolute value of -155.\n",
    "import builtins\n",
    "help(builtins.abs)\n",
    "print(abs(-115))"
   ]
  },
  {
   "cell_type": "code",
   "execution_count": 432,
   "id": "072b794d",
   "metadata": {},
   "outputs": [
    {
     "data": {
      "text/plain": [
       "'Name:Kiren \\n Age:13 \\n Id:15042'"
      ]
     },
     "execution_count": 432,
     "metadata": {},
     "output_type": "execute_result"
    }
   ],
   "source": [
    "# Define a Python function student(). Using function attributes display the names of all arguments.\n",
    "def student(name,age,id_num):\n",
    "    return f\"Name:{name} \\n Age:{age} \\n Id:{id_num}\"\n",
    "student('Kiren',13,15042)"
   ]
  },
  {
   "cell_type": "code",
   "execution_count": 504,
   "id": "91bd7af1",
   "metadata": {},
   "outputs": [],
   "source": [
    "# Write a Python function student_data () that will print the ID of a student (student_id). \n",
    "# If the user passes an argument student_name or student_class the function will print the student name and class.\n",
    "def student_data(Id,*args):\n",
    "    if Id:\n",
    "        return f'Id:{Id}'\n",
    "    else:\n",
    "        for x in args:\n",
    "            print(x)"
   ]
  },
  {
   "cell_type": "code",
   "execution_count": 506,
   "id": "5da4a77f",
   "metadata": {},
   "outputs": [
    {
     "data": {
      "text/plain": [
       "'Id:lasven'"
      ]
     },
     "execution_count": 506,
     "metadata": {},
     "output_type": "execute_result"
    }
   ],
   "source": [
    "student_data('lasven','fifth')"
   ]
  },
  {
   "cell_type": "code",
   "execution_count": 524,
   "id": "1402ade3",
   "metadata": {},
   "outputs": [
    {
     "name": "stdout",
     "output_type": "stream",
     "text": [
      "<class 'type'>\n",
      "__main__\n"
     ]
    }
   ],
   "source": [
    "# Write a simple Python class named Student and display its type. \n",
    "# Also, display the __dict__ attribute keys and the value of the __module__ attribute of the Student class.\n",
    "class Student():\n",
    "    def __init__(Id,name):\n",
    "        self.Id=Id\n",
    "        self.name=name\n",
    "\n",
    "print(type(Student))\n",
    "print(Student.__dict__['__module__'])"
   ]
  },
  {
   "cell_type": "code",
   "execution_count": 607,
   "id": "9a5b9d6d",
   "metadata": {},
   "outputs": [],
   "source": [
    "# Write a Python program to create two empty classes, Student and Marks. \n",
    "# Now create some instances and check whether they are instances of the said classes or not. \n",
    "# Also, check whether the said classes are subclasses of the built-in object class or not.\n",
    "class Student:\n",
    "    pass\n",
    "class Marks:\n",
    "    pass\n",
    "# Why do I need parentheses when instantiating a class?\n",
    "# \n",
    "stud=Student()\n",
    "mark=Marks()"
   ]
  },
  {
   "cell_type": "code",
   "execution_count": 627,
   "id": "9b260dd7",
   "metadata": {},
   "outputs": [
    {
     "name": "stdout",
     "output_type": "stream",
     "text": [
      "True\n",
      "True\n",
      "True\n",
      "True\n"
     ]
    }
   ],
   "source": [
    "print(isinstance(stud,Student))\n",
    "print(isinstance(mark,Marks))\n",
    "print(issubclass(Student,object))\n",
    "print(issubclass(Marks,object))"
   ]
  },
  {
   "cell_type": "code",
   "execution_count": 615,
   "id": "3d11a15c",
   "metadata": {},
   "outputs": [
    {
     "name": "stdout",
     "output_type": "stream",
     "text": [
      "Help on built-in function issubclass in module builtins:\n",
      "\n",
      "issubclass(cls, class_or_tuple, /)\n",
      "    Return whether 'cls' is derived from another class or is the same class.\n",
      "    \n",
      "    A tuple, as in ``issubclass(x, (A, B, ...))``, may be given as the target to\n",
      "    check against. This is equivalent to ``issubclass(x, A) or issubclass(x, B)\n",
      "    or ...``.\n",
      "\n"
     ]
    }
   ],
   "source": [
    "help(issubclass)"
   ]
  },
  {
   "cell_type": "code",
   "execution_count": 647,
   "id": "0e1d7b48",
   "metadata": {},
   "outputs": [],
   "source": [
    "# Write a Python class named Student with two attributes student_name, marks. \n",
    "# Modify the attribute values of the said class and print the original and modified values of the said attributes.\n",
    "class Student:\n",
    "    name=\"Mark\"\n",
    "    marks=89"
   ]
  },
  {
   "cell_type": "code",
   "execution_count": 648,
   "id": "2b8861e3",
   "metadata": {},
   "outputs": [
    {
     "name": "stdout",
     "output_type": "stream",
     "text": [
      "student Name: Mark and marks: 89\n",
      "student Name: Andy and marks: 98\n"
     ]
    }
   ],
   "source": [
    "print(f\"student Name: {getattr(Student,'name')} and marks: {getattr(Student,'marks')}\")\n",
    "setattr(Student,'name','Andy')\n",
    "setattr(Student,'marks',98)\n",
    "print(f\"student Name: {getattr(Student,'name')} and marks: {getattr(Student,'marks')}\")"
   ]
  },
  {
   "cell_type": "code",
   "execution_count": 669,
   "id": "cbbf8e3a",
   "metadata": {},
   "outputs": [],
   "source": [
    "# Write a Python class named Student with two attributes student_id, student_name. \n",
    "# Add a new attribute student_class and display the entire attribute and the values of the class. \n",
    "# Now remove the student_name attribute and display the entire attribute with values.\n",
    "\n",
    "class Student:\n",
    "    stud_id=123456\n",
    "    stud_name='Jackey'"
   ]
  },
  {
   "cell_type": "code",
   "execution_count": 670,
   "id": "38634f1e",
   "metadata": {},
   "outputs": [
    {
     "name": "stdout",
     "output_type": "stream",
     "text": [
      "Student id: 123456 \n",
      "Student name: Jackey.\n"
     ]
    }
   ],
   "source": [
    "print(f'Student id: {getattr(Student,\"stud_id\")} \\nStudent name: {getattr(Student,\"stud_name\")}.')"
   ]
  },
  {
   "cell_type": "code",
   "execution_count": 671,
   "id": "20d1146c",
   "metadata": {},
   "outputs": [],
   "source": [
    "# help(setattr)\n",
    "setattr(Student,'stud_class',9)"
   ]
  },
  {
   "cell_type": "code",
   "execution_count": 672,
   "id": "7570fec0",
   "metadata": {},
   "outputs": [
    {
     "name": "stdout",
     "output_type": "stream",
     "text": [
      "Student id: 123456 \n",
      "Student name: Jackey\n",
      "Student class: 9.\n"
     ]
    }
   ],
   "source": [
    "print(f'Student id: {getattr(Student,\"stud_id\")} \\nStudent name: {getattr(Student,\"stud_name\")}\\nStudent class: {getattr(Student,\"stud_class\")}.')"
   ]
  },
  {
   "cell_type": "code",
   "execution_count": 666,
   "id": "d562d59b",
   "metadata": {},
   "outputs": [
    {
     "name": "stdout",
     "output_type": "stream",
     "text": [
      "Help on NoneType object:\n",
      "\n",
      "class NoneType(object)\n",
      " |  Methods defined here:\n",
      " |  \n",
      " |  __bool__(self, /)\n",
      " |      True if self else False\n",
      " |  \n",
      " |  __repr__(self, /)\n",
      " |      Return repr(self).\n",
      " |  \n",
      " |  ----------------------------------------------------------------------\n",
      " |  Static methods defined here:\n",
      " |  \n",
      " |  __new__(*args, **kwargs) from builtins.type\n",
      " |      Create and return a new object.  See help(type) for accurate signature.\n",
      "\n"
     ]
    }
   ],
   "source": [
    "help(delattr)"
   ]
  },
  {
   "cell_type": "code",
   "execution_count": 673,
   "id": "81c8ec4c",
   "metadata": {},
   "outputs": [],
   "source": [
    "delattr(Student,'stud_name')"
   ]
  },
  {
   "cell_type": "code",
   "execution_count": 674,
   "id": "bf3dfeec",
   "metadata": {},
   "outputs": [
    {
     "name": "stdout",
     "output_type": "stream",
     "text": [
      "{'__module__': '__main__', 'stud_id': 123456, '__dict__': <attribute '__dict__' of 'Student' objects>, '__weakref__': <attribute '__weakref__' of 'Student' objects>, '__doc__': None, 'stud_class': 9}\n"
     ]
    }
   ],
   "source": [
    "print(vars(Student))"
   ]
  },
  {
   "cell_type": "code",
   "execution_count": 654,
   "id": "0fe23427",
   "metadata": {},
   "outputs": [
    {
     "name": "stdout",
     "output_type": "stream",
     "text": [
      "Help on built-in function getattr in module builtins:\n",
      "\n",
      "getattr(...)\n",
      "    getattr(object, name[, default]) -> value\n",
      "    \n",
      "    Get a named attribute from an object; getattr(x, 'y') is equivalent to x.y.\n",
      "    When a default argument is given, it is returned when the attribute doesn't\n",
      "    exist; without it, an exception is raised in that case.\n",
      "\n"
     ]
    }
   ],
   "source": [
    "help(getattr)"
   ]
  },
  {
   "cell_type": "code",
   "execution_count": 734,
   "id": "ed66e53f",
   "metadata": {},
   "outputs": [],
   "source": [
    "# Write a Python class named Student with two attributes: student_id, student_name. Add a new attribute: student_class. \n",
    "# Create a function to display all attributes and their values in the Student class.\n",
    "class Student:\n",
    "    Id = 12345\n",
    "    name='random'\n",
    "    def func_return_attributes(self):\n",
    "        print(f\"Srudent name: {Student.name}\\nStudent id: {Student.Id}\\nStudent class: {Student.clas}\")"
   ]
  },
  {
   "cell_type": "code",
   "execution_count": 735,
   "id": "5a96ad7f",
   "metadata": {},
   "outputs": [],
   "source": [
    "setattr(Student,'clas',10)"
   ]
  },
  {
   "cell_type": "code",
   "execution_count": 736,
   "id": "c0c419ad",
   "metadata": {},
   "outputs": [],
   "source": [
    "stud=Student()"
   ]
  },
  {
   "cell_type": "code",
   "execution_count": 738,
   "id": "2899f8ff",
   "metadata": {},
   "outputs": [
    {
     "data": {
      "text/plain": [
       "12345"
      ]
     },
     "execution_count": 738,
     "metadata": {},
     "output_type": "execute_result"
    }
   ],
   "source": [
    "stud.Id"
   ]
  },
  {
   "cell_type": "code",
   "execution_count": 739,
   "id": "2d46145b",
   "metadata": {},
   "outputs": [
    {
     "data": {
      "text/plain": [
       "mappingproxy({'__module__': '__main__',\n",
       "              'Id': 12345,\n",
       "              'name': 'random',\n",
       "              'func_return_attributes': <function __main__.Student.func_return_attributes(self)>,\n",
       "              '__dict__': <attribute '__dict__' of 'Student' objects>,\n",
       "              '__weakref__': <attribute '__weakref__' of 'Student' objects>,\n",
       "              '__doc__': None,\n",
       "              'clas': 10})"
      ]
     },
     "execution_count": 739,
     "metadata": {},
     "output_type": "execute_result"
    }
   ],
   "source": [
    "vars(Student)"
   ]
  },
  {
   "cell_type": "code",
   "execution_count": 740,
   "id": "31101310",
   "metadata": {},
   "outputs": [
    {
     "name": "stdout",
     "output_type": "stream",
     "text": [
      "Srudent name: random\n",
      "Student id: 12345\n",
      "Student class: 10\n"
     ]
    }
   ],
   "source": [
    "stud.func_return_attributes()"
   ]
  },
  {
   "cell_type": "code",
   "execution_count": 754,
   "id": "a6c75cd0",
   "metadata": {},
   "outputs": [
    {
     "name": "stdout",
     "output_type": "stream",
     "text": [
      "\n",
      "\n",
      "Id: V12\n",
      "name: Ernesto Mendez\n",
      "\n",
      "\n",
      "Id: V12\n",
      "lang: 85\n",
      "sci: 93\n",
      "math: 95\n"
     ]
    }
   ],
   "source": [
    "# Write a Python class named Student with two instances student1, student2 and assign values to the instances' attributes. \n",
    "# Print all the attributes of the student1, student2 instances with their values in the given format.\n",
    "# Input values of the instances:\n",
    "# student_1:\n",
    "# student_id = \"V12\"\n",
    "# student_name = \"Ernesto Mendez\"\n",
    "# student_2:\n",
    "# student_id = \"V12\"\n",
    "# marks_language = 85\n",
    "# marks_science = 93\n",
    "# marks_math = 95\n",
    "# Expected Output:\n",
    "# student_id -> V12\n",
    "# student_name -> Ernesto Mendez\n",
    "# student_id -> V12\n",
    "# marks_language -> 85\n",
    "# marks_science -> 93\n",
    "# marks_math -> 95\n",
    "\n",
    "class Student:\n",
    "    school=\"xyz high school\"\n",
    "\n",
    "student1=Student()\n",
    "student2=Student()\n",
    "student1.Id=\"V12\"\n",
    "student1.name=\"Ernesto Mendez\"\n",
    "student2.Id=\"V12\"\n",
    "student2.lang=85\n",
    "student2.sci=93\n",
    "student2.math=95\n",
    "students=[student1,student2]\n",
    "for x in students:\n",
    "    print('\\n')\n",
    "    for attr in x.__dict__:\n",
    "        print(f\"{attr}: {getattr(x,attr)}\")\n"
   ]
  },
  {
   "cell_type": "code",
   "execution_count": 755,
   "id": "c69c399f",
   "metadata": {},
   "outputs": [],
   "source": [
    "class frog:\n",
    "    pass"
   ]
  },
  {
   "cell_type": "code",
   "execution_count": 756,
   "id": "1740933b",
   "metadata": {},
   "outputs": [],
   "source": [
    "frog1=frog()\n",
    "frog1.name=\"Roxxx\"\n",
    "frog1.speak=\"bak bak\""
   ]
  },
  {
   "cell_type": "code",
   "execution_count": 758,
   "id": "5a127cf3",
   "metadata": {},
   "outputs": [],
   "source": [
    "setattr(frog1,\"name\",\"Roxy\")"
   ]
  },
  {
   "cell_type": "code",
   "execution_count": 759,
   "id": "0db9b5f1",
   "metadata": {},
   "outputs": [
    {
     "name": "stdout",
     "output_type": "stream",
     "text": [
      "name: Roxy\n",
      "speak: bak bak\n"
     ]
    }
   ],
   "source": [
    "for x in frog1.__dict__:\n",
    "    print(f\"{x}: {getattr(frog1,x)}\")"
   ]
  },
  {
   "cell_type": "code",
   "execution_count": 777,
   "id": "2fadfffd",
   "metadata": {},
   "outputs": [],
   "source": [
    "# Write a Python class to convert an integer to a Roman numeral.\n",
    "class int_roman:\n",
    "    def int_to_roman(self,num):\n",
    "        self.num=num\n",
    "        roman_numerals = [\n",
    "        (\"V\",5000),\n",
    "        (\"M\", 1000),\n",
    "        (\"CM\", 900),\n",
    "        (\"D\", 500),\n",
    "        (\"CD\", 400),\n",
    "        (\"C\", 100),\n",
    "        (\"XC\", 90),\n",
    "        (\"L\", 50),\n",
    "        (\"XL\", 40),\n",
    "        (\"X\", 10),\n",
    "        (\"IX\", 9),\n",
    "        (\"V\", 5),\n",
    "        (\"IV\", 4),\n",
    "        (\"I\", 1)\n",
    "        ]\n",
    "        roman_numeral = ''\n",
    "        for r, n in roman_numerals:\n",
    "            while num >= n:\n",
    "                roman_numeral += r\n",
    "                num -=n\n",
    "        return roman_numeral\n"
   ]
  },
  {
   "cell_type": "code",
   "execution_count": 778,
   "id": "6aaa16aa",
   "metadata": {},
   "outputs": [
    {
     "data": {
      "text/plain": [
       "'VCCXCVII'"
      ]
     },
     "execution_count": 778,
     "metadata": {},
     "output_type": "execute_result"
    }
   ],
   "source": [
    "int_roman().int_to_roman(5297)"
   ]
  },
  {
   "cell_type": "code",
   "execution_count": null,
   "id": "5253f4ef",
   "metadata": {},
   "outputs": [],
   "source": []
  },
  {
   "cell_type": "markdown",
   "id": "e70668b0",
   "metadata": {},
   "source": [
    "# Heads or Tails"
   ]
  },
  {
   "cell_type": "code",
   "execution_count": 481,
   "id": "505466e7",
   "metadata": {},
   "outputs": [],
   "source": [
    "import random"
   ]
  },
  {
   "cell_type": "code",
   "execution_count": 498,
   "id": "56ddd948",
   "metadata": {},
   "outputs": [
    {
     "data": {
      "text/plain": [
       "'L'"
      ]
     },
     "execution_count": 498,
     "metadata": {},
     "output_type": "execute_result"
    }
   ],
   "source": [
    "x=['H','L']\n",
    "random.choice(x)"
   ]
  },
  {
   "cell_type": "code",
   "execution_count": 502,
   "id": "86206e22",
   "metadata": {},
   "outputs": [],
   "source": [
    "row1 = [\"⬜️\",\"️⬜️\",\"️⬜️\"]\n",
    "row2 = [\"⬜️\",\"⬜️\",\"️⬜️\"]\n",
    "row3 = [\"⬜️️\",\"⬜️️\",\"⬜️️\"]\n",
    "map = [row1, row2, row3]"
   ]
  },
  {
   "cell_type": "code",
   "execution_count": 503,
   "id": "4153539e",
   "metadata": {},
   "outputs": [
    {
     "name": "stdout",
     "output_type": "stream",
     "text": [
      "[['⬜️', '️⬜️', '️⬜️'], ['⬜️', '⬜️', '️⬜️'], ['⬜️️', '⬜️️', '⬜️️']]\n"
     ]
    }
   ],
   "source": [
    "print(map)"
   ]
  },
  {
   "cell_type": "code",
   "execution_count": 779,
   "id": "d323f25d",
   "metadata": {},
   "outputs": [
    {
     "name": "stdout",
     "output_type": "stream",
     "text": [
      "Welcome to Pypassword Generator!\n",
      "How many letters would you like in your password:\n",
      "8\n",
      "How many numbers would you like:\n",
      "2\n",
      "How many symbols would you like:\n",
      "0\n",
      "ZGfDrXjs41\n",
      "fs4ZG1XrjD\n"
     ]
    }
   ],
   "source": [
    "import random as r\n",
    "alphabet=['a','b','c','d','e','f','g','h','i','j','k','l','m','n','o','p','q','r','s','t','u','v','w','x','y','z','A', 'B', 'C', 'D', 'E', 'F', 'G', 'H', 'I', 'J', 'K', 'L', 'M', 'N', 'O', 'P', 'Q', 'R', 'S', 'T', 'U', 'V', 'W', 'X', 'Y', 'Z']\n",
    "symbols=['!','@','#','$','%','&','.']\n",
    "num=['1','2','3','4','5','6','7','8','9','0']\n",
    "print(\"Welcome to Pypassword Generator!\")\n",
    "let_choice=int(input(\"How many letters would you like in your password:\\n\"))\n",
    "num_choice=int(input(\"How many numbers would you like:\\n\"))\n",
    "sym_choice=int(input(\"How many symbols would you like:\\n\"))\n",
    "password=[]\n",
    "for x in range(let_choice):\n",
    "    password.append(r.choice(alphabet))\n",
    "\n",
    "for y in range(num_choice):\n",
    "    password.append(r.choice(num))\n",
    "\n",
    "for z in range(sym_choice):\n",
    "    password.append(r.choice(symbols))\n",
    "\n",
    "print(\"\".join(password))\n",
    "r.shuffle(password)\n",
    "print(\"\".join(password))\n"
   ]
  },
  {
   "cell_type": "markdown",
   "id": "72f645f6",
   "metadata": {},
   "source": [
    "# Hangman Game"
   ]
  },
  {
   "cell_type": "code",
   "execution_count": 784,
   "id": "cb0acdac",
   "metadata": {},
   "outputs": [],
   "source": [
    "# Hangman game\n",
    "import random as ran\n",
    "\n",
    "word_lst=[\"abruptly\",\"absurd\",\"abyss\",\"affix\",\"askew\",\"avenue\",\"awkward\",\"axiom\",\"azure\",\"bagpipes\",\"bandwagon\",\"banjo\",\"bayou\",\"beekeeper\",\"bikini\",\"blitz\",\"blizzard\",\"boggle\",\"bookworm\",\"boxcar\",\"boxful\",\"buckaroo\",\"buffalo\",\"buffoon\",\"buxom\",\"buzzard\",\"buzzing\",\"buzzwords\",\"caliph\",\n",
    "          \"cobweb\",\"cockiness\",\"croquet\",\"crypt\",\"curacao\",\"cycle\",\"daiquiri\",\"dirndl\",\"disavow\",\"dizzying\",\"duplex\",\"dwarves\",\"embezzle\",\"equip\",\"espionage\",\"euouae\",\"exodus\",\"faking\",\"fishhook\",\"fixable\",\"fjord\",\"flapjack\",\"flopping\",\"fluffiness\",\"flyby\",\"foxglove\",\"frazzled\",\"frizzled\",\n",
    "          \"fuchsia\",\"funny\",\"gabby\",\"galaxy\",\"galvanize\",\"gazebo\",\"giaour\",\"gizmo\",\"glowworm\",\"glyph\",\"gnarly\",\"gnostic\",\"gossip\",\"grogginess\",\"haiku\",\"haphazard\",\"hyphen\",\"iatrogenic\",\"icebox\",\"injury\",\"ivory\",\"ivy\",\"jackpot\",\"jaundice\",\"jawbreaker\",\"jaywalk\",\"jazziest\",\"jazzy\",\"jelly\",\n",
    "          \"jigsaw\",\"jinx\",\"jiujitsu\",\"jockey\",\"jogging\",\"joking\",\"jovial\",\"joyful\",\"juicy\",\"jukebox\",\"jumbo\",\"kayak\",\"kazoo\",\"keyhole\",\"khaki\",\"kilobyte\",\"kiosk\",\"kitsch\",\"kiwifruit\",\"klutz\",\"knapsack\",\"larynx\",\"lengths\",\"lucky\",\"luxury\",\"lymph\",\"marquis\",\"matrix\",\"megahertz\",\"microwave\",\n",
    "          \"mnemonic\",\"mystify\",\"naphtha\",\"nightclub\",\"nowadays\",\"numbskull\",\"nymph\",\"onyx\",\"ovary\",\"oxidize\",\"oxygen\",\"pajama\",\"peekaboo\",\"phlegm\",\"pixel\",\"pizazz\",\"pneumonia\",\"polka\",\"pshaw\",\"psyche\",\"puppy\",\"puzzling\",\"quartz\",\"queue\",\"quips\",\"quixotic\",\"quiz\",\"quizzes\",\"quorum\",\n",
    "          \"razzmatazz\",\"rhubarb\",\"rhythm\",\"rickshaw\",\"schnapps\",\"scratch\",\"shiv\",\"snazzy\",\"sphinx\",\"spritz\",\"squawk\",\"staff\",\"strength\",\"strengths\",\"stretch\",\"stronghold\",\"stymied\",\"subway\",\"swivel\",\"syndrome\",\"thriftless\",\"thumbscrew\",\"topaz\",\"transcript\",\"transgress\",\"transplant\",\n",
    "          \"triphthong\",\"twelfth\",\"twelfths\",\"unknown\",\"unworthy\",\"unzip\",\"uptown\",\"vaporize\",\"vixen\",\"vodka\",\"voodoo\",\"vortex\",\"voyeurism\",\n",
    "          \"walkway\",\"waltz\",\"wave\",\"wavy\",\"waxy\",\"wellspring\",\"wheezy\",\"whiskey\",\"whizzing\",\"whomever\",\"wimpy\",\"witchcraft\",\"wizard\",\"woozy\",\"wristwatch\",\"wyvern\",\"xylophone\",\"yachtsman\",\n",
    "          \"yippee\",\"yoked\",\"youthful\",\"yummy\",\"zephyr\",\"zigzag\",\"zigzagging\",\"zilch\",\"zipper\",\"zodiac\",\"zombie\"]"
   ]
  },
  {
   "cell_type": "code",
   "execution_count": 810,
   "id": "1ec90ab0",
   "metadata": {},
   "outputs": [],
   "source": [
    "#chossing a random word from list \n",
    "chosen_word=ran.choice(word_lst)"
   ]
  },
  {
   "cell_type": "code",
   "execution_count": 811,
   "id": "4a316bbf",
   "metadata": {},
   "outputs": [
    {
     "name": "stdout",
     "output_type": "stream",
     "text": [
      "yummy\n"
     ]
    }
   ],
   "source": [
    "#testing\n",
    "print(chosen_word)"
   ]
  },
  {
   "cell_type": "code",
   "execution_count": 812,
   "id": "49acee11",
   "metadata": {},
   "outputs": [
    {
     "name": "stdout",
     "output_type": "stream",
     "text": [
      "Guess a letter\n",
      "m\n"
     ]
    }
   ],
   "source": [
    "# taking input from user and converting it to lower\n",
    "guess=input(\"Guess a letter\\n\").lower()"
   ]
  },
  {
   "cell_type": "code",
   "execution_count": 813,
   "id": "72bb7cb9",
   "metadata": {},
   "outputs": [
    {
     "name": "stdout",
     "output_type": "stream",
     "text": [
      "m\n"
     ]
    }
   ],
   "source": [
    "# testing the guess word\n",
    "print(guess)"
   ]
  },
  {
   "cell_type": "code",
   "execution_count": 817,
   "id": "8eea1a3a",
   "metadata": {},
   "outputs": [
    {
     "name": "stdout",
     "output_type": "stream",
     "text": [
      "Wrong\n",
      "Wrong\n",
      "Right\n",
      "Right\n",
      "Wrong\n"
     ]
    }
   ],
   "source": [
    "# checking if the guessed letter in chosen_word\n",
    "for x in chosen_word:\n",
    "    if x==guess:\n",
    "        print(\"Right\")\n",
    "        \n",
    "    else:\n",
    "        print(\"Wrong\")"
   ]
  },
  {
   "cell_type": "code",
   "execution_count": 821,
   "id": "f8faadc0",
   "metadata": {},
   "outputs": [],
   "source": [
    "# Creating empty list \n",
    "display=[]\n",
    "for x in range(0,len(chosen_word)):\n",
    "    display.append('_')"
   ]
  },
  {
   "cell_type": "code",
   "execution_count": 822,
   "id": "0839bd06",
   "metadata": {},
   "outputs": [
    {
     "name": "stdout",
     "output_type": "stream",
     "text": [
      "['_', '_', '_', '_', '_']\n"
     ]
    }
   ],
   "source": [
    "# testing\n",
    "print(display)"
   ]
  },
  {
   "cell_type": "code",
   "execution_count": 823,
   "id": "b8e76002",
   "metadata": {},
   "outputs": [],
   "source": [
    "# checking if the guessed letter in chosen_word and filling the blank spaces\n",
    "for i,x in enumerate(chosen_word):\n",
    "    if x==guess:\n",
    "        display[i]=x\n",
    "        \n",
    "    else:\n",
    "        pass"
   ]
  },
  {
   "cell_type": "code",
   "execution_count": 824,
   "id": "9f815ebf",
   "metadata": {},
   "outputs": [
    {
     "name": "stdout",
     "output_type": "stream",
     "text": [
      "['_', '_', 'm', 'm', '_']\n"
     ]
    }
   ],
   "source": [
    "print(display)"
   ]
  },
  {
   "cell_type": "code",
   "execution_count": 38,
   "id": "9e57fab1",
   "metadata": {},
   "outputs": [
    {
     "name": "stdout",
     "output_type": "stream",
     "text": [
      " \n",
      " _                                             \n",
      "| |                                            \n",
      "| |__   __ _ _ __   __ _ _ __ ___   __ _ _ __  \n",
      "| '_ \\ / _` | '_ \\ / _` | '_ ` _ \\ / _` | '_ \\ \n",
      "| | | | (_| | | | | (_| | | | | | | (_| | | | |\n",
      "|_| |_|\\__,_|_| |_|\\__, |_| |_| |_|\\__,_|_| |_|\n",
      "                    __/ |                      \n",
      "                   |___/    \n",
      "Guess a letter\n",
      "j\n",
      "\n",
      "  +---+\n",
      "  |   |\n",
      "      |\n",
      "      |\n",
      "      |\n",
      "      |\n",
      "=========\n",
      "\n",
      "_ _ _ _\n",
      "Guess a letter\n",
      "i\n",
      "_ _ i _\n",
      "Guess a letter\n",
      "o\n",
      "\n",
      "  +---+\n",
      "  |   |\n",
      "  O   |\n",
      "      |\n",
      "      |\n",
      "      |\n",
      "=========\n",
      "\n",
      "_ _ i _\n",
      "Guess a letter\n",
      "p\n",
      "\n",
      "  +---+\n",
      "  |   |\n",
      "  O   |\n",
      "  |   |\n",
      "      |\n",
      "      |\n",
      "=========\n",
      "\n",
      "_ _ i _\n",
      "Guess a letter\n",
      "k\n",
      "\n",
      "  +---+\n",
      "  |   |\n",
      "  O   |\n",
      " /|   |\n",
      "      |\n",
      "      |\n",
      "=========\n",
      "_ _ i _\n",
      "Guess a letter\n",
      "g\n",
      "\n",
      "  +---+\n",
      "  |   |\n",
      "  O   |\n",
      " /|\\  |\n",
      "      |\n",
      "      |\n",
      "=========\n",
      "\n",
      "_ _ i _\n",
      "Guess a letter\n",
      "u\n",
      "\n",
      "  +---+\n",
      "  |   |\n",
      "  O   |\n",
      " /|\\  |\n",
      " /    |\n",
      "      |\n",
      "=========\n",
      "\n",
      "_ _ i _\n",
      "Guess a letter\n",
      "b\n",
      "\n",
      "  +---+\n",
      "  |   |\n",
      "  O   |\n",
      " /|\\  |\n",
      " / \\  |\n",
      "      |\n",
      "=========\n",
      "\n",
      "\n",
      "-----------------------------------------------------------\n",
      "--------------------------You Lose--------------------------\n",
      "-----------------------------------------------------------\n",
      "\n",
      "The word is: shiv\n",
      " \n",
      " _                                             \n",
      "| |                                            \n",
      "| |__   __ _ _ __   __ _ _ __ ___   __ _ _ __  \n",
      "| '_ \\ / _` | '_ \\ / _` | '_ ` _ \\ / _` | '_ \\ \n",
      "| | | | (_| | | | | (_| | | | | | | (_| | | | |\n",
      "|_| |_|\\__,_|_| |_|\\__, |_| |_| |_|\\__,_|_| |_|\n",
      "                    __/ |                      \n",
      "                   |___/    \n"
     ]
    }
   ],
   "source": [
    "# Combining all the pieces together\n",
    "\n",
    "import random as ran\n",
    "word_lst=[\"abruptly\",\"absurd\",\"abyss\",\"affix\",\"askew\",\"avenue\",\"awkward\",\"axiom\",\"azure\",\"bagpipes\",\"bandwagon\",\"banjo\",\"bayou\",\"beekeeper\",\"bikini\",\"blitz\",\"blizzard\",\"boggle\",\"bookworm\",\"boxcar\",\"boxful\",\"buckaroo\",\"buffalo\",\"buffoon\",\"buxom\",\"buzzard\",\"buzzing\",\"buzzwords\",\"caliph\",\n",
    "          \"cobweb\",\"cockiness\",\"croquet\",\"crypt\",\"curacao\",\"cycle\",\"daiquiri\",\"dirndl\",\"disavow\",\"dizzying\",\"duplex\",\"dwarves\",\"embezzle\",\"equip\",\"espionage\",\"euouae\",\"exodus\",\"faking\",\"fishhook\",\"fixable\",\"fjord\",\"flapjack\",\"flopping\",\"fluffiness\",\"flyby\",\"foxglove\",\"frazzled\",\"frizzled\",\n",
    "          \"fuchsia\",\"funny\",\"gabby\",\"galaxy\",\"galvanize\",\"gazebo\",\"giaour\",\"gizmo\",\"glowworm\",\"glyph\",\"gnarly\",\"gnostic\",\"gossip\",\"grogginess\",\"haiku\",\"haphazard\",\"hyphen\",\"iatrogenic\",\"icebox\",\"injury\",\"ivory\",\"ivy\",\"jackpot\",\"jaundice\",\"jawbreaker\",\"jaywalk\",\"jazziest\",\"jazzy\",\"jelly\",\n",
    "          \"jigsaw\",\"jinx\",\"jiujitsu\",\"jockey\",\"jogging\",\"joking\",\"jovial\",\"joyful\",\"juicy\",\"jukebox\",\"jumbo\",\"kayak\",\"kazoo\",\"keyhole\",\"khaki\",\"kilobyte\",\"kiosk\",\"kitsch\",\"kiwifruit\",\"klutz\",\"knapsack\",\"larynx\",\"lengths\",\"lucky\",\"luxury\",\"lymph\",\"marquis\",\"matrix\",\"megahertz\",\"microwave\",\n",
    "          \"mnemonic\",\"mystify\",\"naphtha\",\"nightclub\",\"nowadays\",\"numbskull\",\"nymph\",\"onyx\",\"ovary\",\"oxidize\",\"oxygen\",\"pajama\",\"peekaboo\",\"phlegm\",\"pixel\",\"pizazz\",\"pneumonia\",\"polka\",\"pshaw\",\"psyche\",\"puppy\",\"puzzling\",\"quartz\",\"queue\",\"quips\",\"quixotic\",\"quiz\",\"quizzes\",\"quorum\",\n",
    "          \"razzmatazz\",\"rhubarb\",\"rhythm\",\"rickshaw\",\"schnapps\",\"scratch\",\"shiv\",\"snazzy\",\"sphinx\",\"spritz\",\"squawk\",\"staff\",\"strength\",\"strengths\",\"stretch\",\"stronghold\",\"stymied\",\"subway\",\"swivel\",\"syndrome\",\"thriftless\",\"thumbscrew\",\"topaz\",\"transcript\",\"transgress\",\"transplant\",\n",
    "          \"triphthong\",\"twelfth\",\"twelfths\",\"unknown\",\"unworthy\",\"unzip\",\"uptown\",\"vaporize\",\"vixen\",\"vodka\",\"voodoo\",\"vortex\",\"voyeurism\",\n",
    "          \"walkway\",\"waltz\",\"wave\",\"wavy\",\"waxy\",\"wellspring\",\"wheezy\",\"whiskey\",\"whizzing\",\"whomever\",\"wimpy\",\"witchcraft\",\"wizard\",\"woozy\",\"wristwatch\",\"wyvern\",\"xylophone\",\"yachtsman\",\n",
    "          \"yippee\",\"yoked\",\"youthful\",\"yummy\",\"zephyr\",\"zigzag\",\"zigzagging\",\"zilch\",\"zipper\",\"zodiac\",\"zombie\"]\n",
    "\n",
    "chosen_word=ran.choice(word_lst)\n",
    "#print(chosen_word)\n",
    "\n",
    "display=[]\n",
    "for x in range(0,len(chosen_word)):\n",
    "    display.append('_')\n",
    "lives=0\n",
    "stages = ['''\n",
    "  +---+\n",
    "  |   |\n",
    "  O   |\n",
    " /|\\  |\n",
    " / \\  |\n",
    "      |\n",
    "=========\n",
    "''', '''\n",
    "  +---+\n",
    "  |   |\n",
    "  O   |\n",
    " /|\\  |\n",
    " /    |\n",
    "      |\n",
    "=========\n",
    "''', '''\n",
    "  +---+\n",
    "  |   |\n",
    "  O   |\n",
    " /|\\  |\n",
    "      |\n",
    "      |\n",
    "=========\n",
    "''', '''\n",
    "  +---+\n",
    "  |   |\n",
    "  O   |\n",
    " /|   |\n",
    "      |\n",
    "      |\n",
    "=========''', '''\n",
    "  +---+\n",
    "  |   |\n",
    "  O   |\n",
    "  |   |\n",
    "      |\n",
    "      |\n",
    "=========\n",
    "''', '''\n",
    "  +---+\n",
    "  |   |\n",
    "  O   |\n",
    "      |\n",
    "      |\n",
    "      |\n",
    "=========\n",
    "''', '''\n",
    "  +---+\n",
    "  |   |\n",
    "      |\n",
    "      |\n",
    "      |\n",
    "      |\n",
    "=========\n",
    "''']\n",
    "logo = ''' \n",
    " _                                             \n",
    "| |                                            \n",
    "| |__   __ _ _ __   __ _ _ __ ___   __ _ _ __  \n",
    "| '_ \\ / _` | '_ \\ / _` | '_ ` _ \\ / _` | '_ \\ \n",
    "| | | | (_| | | | | (_| | | | | | | (_| | | | |\n",
    "|_| |_|\\__,_|_| |_|\\__, |_| |_| |_|\\__,_|_| |_|\n",
    "                    __/ |                      \n",
    "                   |___/    '''\n",
    "game_end=False\n",
    "print(logo)\n",
    "while not game_end:\n",
    "    if \"_\" not in display:\n",
    "        game_end = True\n",
    "        print(\"\"\"\\n-----------------------------------------------------------\\n--------------------------You Won--------------------------\\n-----------------------------------------------------------\\n\"\"\")\n",
    "        \n",
    "    else:\n",
    "        guess=input(\"Guess a letter\\n\").lower()\n",
    "        if guess not in chosen_word:\n",
    "            lives-=1\n",
    "            print(stages[lives])\n",
    "            if lives==-7:\n",
    "                print(\"\\n-----------------------------------------------------------\\n--------------------------You Lose--------------------------\\n-----------------------------------------------------------\\n\")\n",
    "                print(f\"The word is: {chosen_word}\")\n",
    "                print(''' \n",
    " _                                             \n",
    "| |                                            \n",
    "| |__   __ _ _ __   __ _ _ __ ___   __ _ _ __  \n",
    "| '_ \\ / _` | '_ \\ / _` | '_ ` _ \\ / _` | '_ \\ \n",
    "| | | | (_| | | | | (_| | | | | | | (_| | | | |\n",
    "|_| |_|\\__,_|_| |_|\\__, |_| |_| |_|\\__,_|_| |_|\n",
    "                    __/ |                      \n",
    "                   |___/    ''')\n",
    "                break\n",
    "        elif guess in chosen_word:\n",
    "             for i,x in enumerate(chosen_word):\n",
    "                if x==guess:\n",
    "                    display[i]=x\n",
    "    print(\" \".join(display))"
   ]
  },
  {
   "cell_type": "markdown",
   "id": "b49e403c",
   "metadata": {},
   "source": [
    "# Caesar Cipher"
   ]
  },
  {
   "cell_type": "markdown",
   "id": "59ff9213",
   "metadata": {},
   "source": [
    "Method:1"
   ]
  },
  {
   "cell_type": "code",
   "execution_count": null,
   "id": "7dc56ff0",
   "metadata": {},
   "outputs": [],
   "source": [
    "\n",
    "\n",
    "alphabet = ['a', 'b', 'c', 'd', 'e', 'f', 'g', 'h', 'i', 'j', 'k', 'l', 'm', 'n', 'o', 'p', 'q', 'r', 's', 't', 'u', 'v', 'w', 'x', 'y', 'z',\n",
    "            'a', 'b', 'c', 'd', 'e', 'f', 'g', 'h', 'i', 'j', 'k', 'l', 'm', 'n', 'o', 'p', 'q', 'r', 's', 't', 'u', 'v', 'w', 'x', 'y', 'z']\n",
    "\n",
    "direction = input(\"Type 'encode' to encrypt, type 'decode' to decrypt:\\n\")\n",
    "text = input(\"Type your message:\\n\").lower()\n",
    "shift = int(input(\"Type the shift number:\\n\"))\n",
    "if direction==\"encode\":\n",
    "    print((text,shift))\n",
    "elif direction==\"decode\":\n",
    "    print(decrypt(text,shift))"
   ]
  },
  {
   "cell_type": "code",
   "execution_count": 38,
   "id": "68379814",
   "metadata": {},
   "outputs": [],
   "source": [
    "def encrypt(text,shift):\n",
    "    encrypt=\"\"\n",
    "    for alpha in text:\n",
    "        encrypt+=alphabet[alphabet.index(alpha)+shift]\n",
    "    return encrypt"
   ]
  },
  {
   "cell_type": "code",
   "execution_count": 37,
   "id": "6fe3d24e",
   "metadata": {},
   "outputs": [],
   "source": [
    "def decrypt(text,shift):\n",
    "    decrypt=\"\"\n",
    "    for alpha in text:\n",
    "        decrypt+=alphabet[alphabet.index(alpha)-shift]\n",
    "    return decrypt"
   ]
  },
  {
   "cell_type": "code",
   "execution_count": null,
   "id": "2e60807c",
   "metadata": {},
   "outputs": [],
   "source": [
    "# def encrypt(text,shift):\n",
    "#     encrypt=\"\"\n",
    "#     for alpha in text:\n",
    "#         encrypt+=alphabet[alphabet.index(alpha)+shift]\n",
    "#     print(f\"The encoded text is {encrypt}.\")"
   ]
  },
  {
   "cell_type": "code",
   "execution_count": null,
   "id": "6b3690bd",
   "metadata": {},
   "outputs": [],
   "source": [
    "# def decrypt(text,shift):\n",
    "#     decrypt=\"\"\n",
    "#     for alpha in text:\n",
    "#         decrypt+=alphabet[alphabet.index(alpha)-shift]\n",
    "#     print(f\"The decoded text is {decrypt}.\")"
   ]
  },
  {
   "cell_type": "markdown",
   "id": "23e8b759",
   "metadata": {},
   "source": [
    "Method:2"
   ]
  },
  {
   "cell_type": "code",
   "execution_count": 55,
   "id": "53d98263",
   "metadata": {},
   "outputs": [
    {
     "name": "stdout",
     "output_type": "stream",
     "text": [
      "           \n",
      " ,adPPYba, ,adPPYYba,  ,adPPYba, ,adPPYba, ,adPPYYba, 8b,dPPYba,  \n",
      "a8\"     \"\" \"\"     `Y8 a8P_____88 I8[    \"\" \"\"     `Y8 88P'   \"Y8  \n",
      "8b         ,adPPPPP88 8PP\"  `\"Y8ba,  ,adPPPPP88 88          \n",
      "\"8a,   ,aa 88,    ,88 \"8b,   ,aa aa    ]8I 88,    ,88 88          \n",
      " `\"Ybbd8\"' `\"8bbdP\"Y8  `\"Ybbd8\"' `\"YbbdP\"' `\"8bbdP\"Y8 88   \n",
      "            88             88                                 \n",
      "           \"\"             88                                 \n",
      "                          88                                 \n",
      " ,adPPYba, 88 8b,dPPYba,  88,dPPYba,   ,adPPYba, 8b,dPPYba,  \n",
      "a8\"     \"\" 88 88P'    \"8a 88P'    \"8a a8P_____88 88P'   \"Y8  \n",
      "8b         88 88       d8 88       88 8PP\" 88          \n",
      "\"8a,   ,aa 88 88b,   ,a8\" 88       88 \"8b,   ,aa 88          \n",
      " `\"Ybbd8\"' 88 88`YbbdP\"'  88       88  `\"Ybbd8\"' 88          \n",
      "              88                                             \n",
      "              88           \n",
      "\n",
      "Type 'encode' to encrypt, type 'decode' to decrypt:\n",
      "encode\n",
      "Type your message:\n",
      "hello[;']\n",
      "Type the shift number:\n",
      "5\n",
      "mjqqt[;']\n",
      "Do you want to play again 'Yes' or 'No': yes\n",
      "Type 'encode' to encrypt, type 'decode' to decrypt:\n",
      "decode\n",
      "Type your message:\n",
      "[;[';'mjqqt\n",
      "Type the shift number:\n",
      "5\n",
      "[;[';'hello\n",
      "Do you want to play again 'Yes' or 'No': no\n"
     ]
    }
   ],
   "source": [
    "alphabet = ['a', 'b', 'c', 'd', 'e', 'f', 'g', 'h', 'i', 'j', 'k', 'l', 'm', 'n', 'o', 'p', 'q', 'r', 's', 't', 'u', 'v', 'w', 'x', 'y', 'z',\n",
    "            'a', 'b', 'c', 'd', 'e', 'f', 'g', 'h', 'i', 'j', 'k', 'l', 'm', 'n', 'o', 'p', 'q', 'r', 's', 't', 'u', 'v', 'w', 'x', 'y', 'z']\n",
    "logo = \"\"\"           \n",
    " ,adPPYba, ,adPPYYba,  ,adPPYba, ,adPPYba, ,adPPYYba, 8b,dPPYba,  \n",
    "a8\"     \"\" \"\"     `Y8 a8P_____88 I8[    \"\" \"\"     `Y8 88P'   \"Y8  \n",
    "8b         ,adPPPPP88 8PP\"\"\"\"\"\"\"  `\"Y8ba,  ,adPPPPP88 88          \n",
    "\"8a,   ,aa 88,    ,88 \"8b,   ,aa aa    ]8I 88,    ,88 88          \n",
    " `\"Ybbd8\"' `\"8bbdP\"Y8  `\"Ybbd8\"' `\"YbbdP\"' `\"8bbdP\"Y8 88   \n",
    "            88             88                                 \n",
    "           \"\"             88                                 \n",
    "                          88                                 \n",
    " ,adPPYba, 88 8b,dPPYba,  88,dPPYba,   ,adPPYba, 8b,dPPYba,  \n",
    "a8\"     \"\" 88 88P'    \"8a 88P'    \"8a a8P_____88 88P'   \"Y8  \n",
    "8b         88 88       d8 88       88 8PP\"\"\"\"\"\"\" 88          \n",
    "\"8a,   ,aa 88 88b,   ,a8\" 88       88 \"8b,   ,aa 88          \n",
    " `\"Ybbd8\"' 88 88`YbbdP\"'  88       88  `\"Ybbd8\"' 88          \n",
    "              88                                             \n",
    "              88           \n",
    "\"\"\"\n",
    "print(logo)\n",
    "game=True\n",
    "while game:\n",
    "    direction = input(\"Type 'encode' to encrypt, type 'decode' to decrypt:\\n\")\n",
    "    text = input(\"Type your message:\\n\").lower()\n",
    "    shift = int(input(\"Type the shift number:\\n\"))\n",
    "    shift = shift % 26\n",
    "    print(caeser(text,shift,direction))\n",
    "    def caeser(text,shift,direction):\n",
    "        new_txt=\"\"\n",
    "        if direction==\"decode\":\n",
    "            shift*=-1\n",
    "        for alpha in text:\n",
    "            if alpha in alphabet:\n",
    "                new_txt+=alphabet[alphabet.index(alpha)+shift]\n",
    "            else:\n",
    "                new_txt+=alpha\n",
    "        return new_txt\n",
    "    choice=input(\"Do you want to play again 'Yes' or 'No': \").lower()\n",
    "    if choice=='no':\n",
    "        game=False\n",
    "        print(\"Goodbye\")"
   ]
  },
  {
   "cell_type": "markdown",
   "id": "a3a6cd3c",
   "metadata": {},
   "source": [
    "\n",
    "# Dictionary practice"
   ]
  },
  {
   "cell_type": "code",
   "execution_count": 64,
   "id": "5373faf3",
   "metadata": {},
   "outputs": [],
   "source": [
    "dic={\n",
    "    \"Bug\" : \"An error in a program that prevents from running as expected.\",\n",
    "    \"Function\" : \"A piece of code that you can easily call over and over again.\"\n",
    "}"
   ]
  },
  {
   "cell_type": "code",
   "execution_count": 66,
   "id": "69b7255a",
   "metadata": {},
   "outputs": [],
   "source": [
    "dic[\"Loop\"]= \"The action of doing something over and over again.\""
   ]
  },
  {
   "cell_type": "code",
   "execution_count": 63,
   "id": "4e2c9a08",
   "metadata": {},
   "outputs": [
    {
     "name": "stdout",
     "output_type": "stream",
     "text": [
      "{}\n"
     ]
    }
   ],
   "source": [
    "# dic={}\n",
    "# print(dic)"
   ]
  },
  {
   "cell_type": "code",
   "execution_count": 67,
   "id": "5e1283e6",
   "metadata": {},
   "outputs": [
    {
     "name": "stdout",
     "output_type": "stream",
     "text": [
      "Bug\n",
      "Function\n",
      "Loop\n"
     ]
    }
   ],
   "source": [
    "for x in dic:\n",
    "    print(x)"
   ]
  },
  {
   "cell_type": "code",
   "execution_count": 71,
   "id": "1469e27e",
   "metadata": {},
   "outputs": [],
   "source": [
    "travel_log = [\n",
    "{\n",
    "  \"country\": \"France\",\n",
    "  \"visits\": 12,\n",
    "  \"cities\": [\"Paris\", \"Lille\", \"Dijon\"]\n",
    "},\n",
    "{\n",
    "  \"country\": \"Germany\",\n",
    "  \"visits\": 5,\n",
    "  \"cities\": [\"Berlin\", \"Hamburg\", \"Stuttgart\"]\n",
    "},\n",
    "]"
   ]
  },
  {
   "cell_type": "code",
   "execution_count": 73,
   "id": "8f7db180",
   "metadata": {},
   "outputs": [],
   "source": [
    "def add_new_country(con,vis,cit): \n",
    "    new_dic={}\n",
    "    new_dic[\"Country\"] = con\n",
    "    new_dic[\"Visits\"] = vis\n",
    "    new_dic[\"cities\"] = cit\n",
    "    travel_log.append(new_dic)\n",
    "    return travel_log"
   ]
  },
  {
   "cell_type": "code",
   "execution_count": 75,
   "id": "7ba9bf1f",
   "metadata": {},
   "outputs": [
    {
     "name": "stdout",
     "output_type": "stream",
     "text": [
      "[{'country': 'France', 'visits': 12, 'cities': ['Paris', 'Lille', 'Dijon']}, {'country': 'Germany', 'visits': 5, 'cities': ['Berlin', 'Hamburg', 'Stuttgart']}, {'Country': 'Russia', 'Visits': 2, 'cities': ['Moscow', 'Saint Petersburg']}]\n"
     ]
    }
   ],
   "source": [
    "print(travel_log)"
   ]
  },
  {
   "cell_type": "code",
   "execution_count": 74,
   "id": "0081f1df",
   "metadata": {},
   "outputs": [
    {
     "data": {
      "text/plain": [
       "[{'country': 'France', 'visits': 12, 'cities': ['Paris', 'Lille', 'Dijon']},\n",
       " {'country': 'Germany',\n",
       "  'visits': 5,\n",
       "  'cities': ['Berlin', 'Hamburg', 'Stuttgart']},\n",
       " {'Country': 'Russia', 'Visits': 2, 'cities': ['Moscow', 'Saint Petersburg']}]"
      ]
     },
     "execution_count": 74,
     "metadata": {},
     "output_type": "execute_result"
    }
   ],
   "source": [
    "add_new_country(\"Russia\", 2, [\"Moscow\", \"Saint Petersburg\"])\n"
   ]
  },
  {
   "cell_type": "code",
   "execution_count": 83,
   "id": "1609d6c7",
   "metadata": {},
   "outputs": [],
   "source": [
    "dic={\n",
    "    \"a\":1,\n",
    "    \"b\":2,\n",
    "    \"c\":3,\n",
    "}"
   ]
  },
  {
   "cell_type": "code",
   "execution_count": 81,
   "id": "3554b63f",
   "metadata": {},
   "outputs": [
    {
     "name": "stdout",
     "output_type": "stream",
     "text": [
      "{'a': 2, 'b': 3, 'c': [1, 2, 3], 1: 4}\n"
     ]
    }
   ],
   "source": [
    "print(dic)"
   ]
  },
  {
   "cell_type": "code",
   "execution_count": 78,
   "id": "a376541c",
   "metadata": {},
   "outputs": [],
   "source": [
    "dic[\"c\"]=[1,2,3]"
   ]
  },
  {
   "cell_type": "code",
   "execution_count": 79,
   "id": "94392838",
   "metadata": {},
   "outputs": [
    {
     "ename": "TypeError",
     "evalue": "'int' object is not iterable",
     "output_type": "error",
     "traceback": [
      "\u001b[1;31m---------------------------------------------------------------------------\u001b[0m",
      "\u001b[1;31mTypeError\u001b[0m                                 Traceback (most recent call last)",
      "Cell \u001b[1;32mIn[79], line 2\u001b[0m\n\u001b[0;32m      1\u001b[0m \u001b[38;5;28;01mfor\u001b[39;00m key \u001b[38;5;129;01min\u001b[39;00m dic:\n\u001b[1;32m----> 2\u001b[0m     dic[key]\u001b[38;5;241m+\u001b[39m\u001b[38;5;241m=\u001b[39m\u001b[38;5;241m1\u001b[39m\n",
      "\u001b[1;31mTypeError\u001b[0m: 'int' object is not iterable"
     ]
    }
   ],
   "source": [
    "for key in dic:\n",
    "    dic[key]+=1"
   ]
  },
  {
   "cell_type": "code",
   "execution_count": 80,
   "id": "8e469b73",
   "metadata": {},
   "outputs": [],
   "source": [
    "dic[1]=4"
   ]
  },
  {
   "cell_type": "code",
   "execution_count": 84,
   "id": "c71c275a",
   "metadata": {},
   "outputs": [
    {
     "ename": "KeyError",
     "evalue": "1",
     "output_type": "error",
     "traceback": [
      "\u001b[1;31m---------------------------------------------------------------------------\u001b[0m",
      "\u001b[1;31mKeyError\u001b[0m                                  Traceback (most recent call last)",
      "Cell \u001b[1;32mIn[84], line 1\u001b[0m\n\u001b[1;32m----> 1\u001b[0m \u001b[38;5;28mprint\u001b[39m(\u001b[43mdic\u001b[49m\u001b[43m[\u001b[49m\u001b[38;5;241;43m1\u001b[39;49m\u001b[43m]\u001b[49m)\n",
      "\u001b[1;31mKeyError\u001b[0m: 1"
     ]
    }
   ],
   "source": [
    "print(dic[1])"
   ]
  },
  {
   "cell_type": "markdown",
   "id": "9bd54b79",
   "metadata": {},
   "source": [
    "# Blind Auction"
   ]
  },
  {
   "cell_type": "code",
   "execution_count": 162,
   "id": "741300cd",
   "metadata": {},
   "outputs": [
    {
     "name": "stdout",
     "output_type": "stream",
     "text": [
      "The winner is Abhii with a bid of $1500\n"
     ]
    }
   ],
   "source": [
    "from IPython.display import clear_output\n",
    "logo = '''\n",
    "                         ___________\n",
    "                         \\         /\n",
    "                          )_______(\n",
    "                          |\"\"\"\"\"\"\"|_.-._,.---------.,_.-._\n",
    "                          |       | | |               | | ''-.\n",
    "                          |       |_| |_             _| |_..-'\n",
    "                          |_______| '-' `'---------'` '-'\n",
    "                          )\"\"\"\"\"\"\"(\n",
    "                         /_________\\\\\n",
    "                       .-------------.\n",
    "                      /_______________\\\\\n",
    "'''\n",
    "print(logo)\n",
    "print(\"Welcome to the secret auction program.\")\n",
    "bid_choice=\"yes\"\n",
    "bidding_dic={}\n",
    "\n",
    "def find_max_bidder(dic):\n",
    "    max_bid=0\n",
    "    winner=\"_\"\n",
    "    for key,value in bidding_dic.items():\n",
    "        if max_bid<value:\n",
    "            max_bid=value\n",
    "            winner=key\n",
    "    print(f\"The winner is {key} with a bid of ${max_bid}\")\n",
    "\n",
    "while bid_choice=='yes':\n",
    "    name=input(\"What is your name?: \")\n",
    "    bid=int(input(\"What's your bid?: $ \"))\n",
    "    bidding_dic[name]=bid\n",
    "    clear_output(wait=True)\n",
    "    bid_choice=input(\"Are there any other bidders? Type 'yes' or 'no': \").lower()\n",
    "    clear_output(wait=True)\n",
    "m_bid=find_max_bidder(bidding_dic)"
   ]
  },
  {
   "cell_type": "markdown",
   "id": "f187c5f8",
   "metadata": {},
   "source": [
    "# Calculator"
   ]
  },
  {
   "cell_type": "code",
   "execution_count": 181,
   "id": "7cdb09f9",
   "metadata": {},
   "outputs": [
    {
     "name": "stdout",
     "output_type": "stream",
     "text": [
      "Y or N: n\n"
     ]
    }
   ],
   "source": [
    "from IPython.display import clear_output\n",
    "logo = \"\"\"\n",
    " _____________________\n",
    "|  _________________  |\n",
    "| | Pythonista   0. | |  .----------------.  .----------------.  .----------------.  .----------------. \n",
    "| |_________________| | | .--------------. || .--------------. || .--------------. || .--------------. |\n",
    "|  ___ ___ ___   ___  | | |     ______   | || |      __      | || |   _____      | || |     ______   | |\n",
    "| | 7 | 8 | 9 | | + | | | |   .' ___  |  | || |     /  \\     | || |  |_   _|     | || |   .' ___  |  | |\n",
    "| |___|___|___| |___| | | |  / .'   \\_|  | || |    / /\\ \\    | || |    | |       | || |  / .'   \\_|  | |\n",
    "| | 4 | 5 | 6 | | - | | | |  | |         | || |   / ____ \\   | || |    | |   _   | || |  | |         | |\n",
    "| |___|___|___| |___| | | |  \\ `.___.'\\  | || | _/ /    \\ \\_ | || |   _| |__/ |  | || |  \\ `.___.'\\  | |\n",
    "| | 1 | 2 | 3 | | x | | | |   `._____.'  | || ||____|  |____|| || |  |________|  | || |   `._____.'  | |\n",
    "| |___|___|___| |___| | | |              | || |              | || |              | || |              | |\n",
    "| | . | 0 | = | | / | | | '--------------' || '--------------' || '--------------' || '--------------' |\n",
    "| |___|___|___| |___| |  '----------------'  '----------------'  '----------------'  '----------------' \n",
    "|_____________________|\n",
    "\"\"\"\n",
    "print(logo)\n",
    "def add(a,b):\n",
    "    return a+b\n",
    "def sub(a,b):\n",
    "    return a-b\n",
    "def mul(a,b):\n",
    "    return a*b\n",
    "def div(a,b):\n",
    "    return a/b\n",
    "operations={\n",
    "    \"+\":add,\"-\":sub,\"*\":mul,\"/\":div\n",
    "}\n",
    "choice = \"y\"\n",
    "a=float (input(\"whats the first number: \"))\n",
    "\n",
    "while choice =='y':\n",
    "    for keys,values in operations.items():\n",
    "        print(keys)\n",
    "    oper=input(\"Pick an operation: \")\n",
    "    b=float(input(\"What the second number: \"))\n",
    "    for keys, value in operations.items():\n",
    "        if oper==keys:\n",
    "            fun = value\n",
    "            print(f\"{a} {oper} {b} = {value(a,b)}\")\n",
    "            a=value(a,b)\n",
    "    clear_output(wait=True)\n",
    "    choice=input(\"Y or N: \").lower()"
   ]
  },
  {
   "cell_type": "markdown",
   "id": "d68c12f1",
   "metadata": {},
   "source": [
    "# Blackjack"
   ]
  },
  {
   "cell_type": "markdown",
   "id": "86eadc2d",
   "metadata": {},
   "source": [
    "Method 1"
   ]
  },
  {
   "cell_type": "code",
   "execution_count": 263,
   "id": "9c0c6efa",
   "metadata": {},
   "outputs": [
    {
     "ename": "SyntaxError",
     "evalue": "'break' outside loop (368954304.py, line 16)",
     "output_type": "error",
     "traceback": [
      "\u001b[1;36m  Cell \u001b[1;32mIn[263], line 16\u001b[1;36m\u001b[0m\n\u001b[1;33m    break\u001b[0m\n\u001b[1;37m    ^\u001b[0m\n\u001b[1;31mSyntaxError\u001b[0m\u001b[1;31m:\u001b[0m 'break' outside loop\n"
     ]
    }
   ],
   "source": [
    "from IPython.display import clear_output\n",
    "import random\n",
    "def Score(cards_lst):\n",
    "    score=0\n",
    "    for card in cards_lst:\n",
    "        score+=card\n",
    "        return score\n",
    "     \n",
    "def new_card(_cards):\n",
    "    _cards.append(random.choice(cards))\n",
    "    return your_cards\n",
    "    \n",
    "def blackjack(you,com):\n",
    "    if computer_score==21:\n",
    "        print(f\"Blackjack computer won {computer_score}\")\n",
    "        break\n",
    "    elif your_score==21:\n",
    "        print(f\"You won {your_score}\")\n",
    "        break\n",
    "    elif computer_score==21 and your_score==21:\n",
    "        print(\"Blackjack Draw\")\n",
    "        break\n",
    "\n",
    "def deal_card():        \n",
    "    cards=[11,2,3,4,5,6,7,8,9,10,10,10,10]\n",
    "game_choice='y'\n",
    "c=0\n",
    "while game_choice=='y':\n",
    "    clear_output(wait=True)\n",
    "    game_choice=input(\"Do you want to play a game of Blackjack? Type 'y' or 'n': \")\n",
    "#     print(\"logo\")\n",
    "    your_cards=[random.choice(cards),random.choice(cards)]\n",
    "    your_score=Score(your_cards)\n",
    "    print(f\"Your cards: {your_cards}, current score: {your_score}\")\n",
    "    computer_cards=[random.choice(cards),random.choice(cards)]\n",
    "    print(f\"Computer's first card: {computer_cards[0]}\")\n",
    "    computer_score=Score(computer_cards)\n",
    "    blackjack(your_score,computer_score)\n",
    "    if your_score>21:\n",
    "        if 11 in your_cards:\n",
    "            your_cards[your_cards.index()]=1\n",
    "            if Score(your_cards)>21:\n",
    "                print(\"You Lose\")\n",
    "            else:\n",
    "                card_choice=input(\"Type 'y' to get another card, type 'n' to pass: \")\n",
    "    \n",
    "    if card_choice=='y':\n",
    "        new_card()\n",
    "        Score(your_cards)\n",
    "    else:\n",
    "        new_card(computer_cards)\n",
    "        \n",
    "    "
   ]
  },
  {
   "cell_type": "markdown",
   "id": "453004f1",
   "metadata": {},
   "source": [
    "Method 2"
   ]
  },
  {
   "cell_type": "code",
   "execution_count": 281,
   "id": "4ded19f7",
   "metadata": {},
   "outputs": [
    {
     "name": "stdout",
     "output_type": "stream",
     "text": [
      "Want to play game 'y' or 'n': y\n",
      "Your cards: [10, 5], current score: 15\n",
      "computer's first card: 10\n",
      "Do you like to draw another card 'y' or 'n': y\n",
      "Your cards: [10, 5, 3], current score: 18\n",
      "computer's first card: 10\n",
      "Do you like to draw another card 'y' or 'n': n\n",
      "Your cards [10, 5, 3] and score 18\n",
      "Computer cards [10, 2, 4, 11] and score 27\n",
      "Opponent went over. You win\n",
      "Want to play game 'y' or 'n': n\n"
     ]
    }
   ],
   "source": [
    "import random\n",
    "\n",
    "def deal_card():\n",
    "    cards=[11,2,3,4,5,6,7,8,9,10,10,10,10]\n",
    "    card=random.choice(cards)\n",
    "    return card\n",
    "while input(\"Want to play game 'y' or 'n': \")=='y':\n",
    "\n",
    "    user_cards = []\n",
    "    computer_cards = []\n",
    "    game_over=False\n",
    "\n",
    "    for _ in range(2):\n",
    "        user_cards.append(deal_card())\n",
    "        computer_cards.append(deal_card())\n",
    "\n",
    "\n",
    "    def calculate_score(card_lst):\n",
    "\n",
    "        if sum(card_lst)==21 and len(card_lst)==2:\n",
    "            return 0\n",
    "\n",
    "        elif sum(card_lst)>21 and 11 in card_lst:\n",
    "            card_lst.remove(11)\n",
    "            card_lst.append(1)\n",
    "        return sum(card_lst)\n",
    "    while not game_over:\n",
    "\n",
    "        user_score=calculate_score(user_cards)\n",
    "        computer_score=calculate_score(computer_cards)\n",
    "        print(f\"Your cards: {user_cards}, current score: {user_score}\")\n",
    "        print(f\"computer's first card: {computer_cards[0]}\")\n",
    "        if your_score == 0 or computer_score==0 or user_score>21:\n",
    "            game_over=True\n",
    "        \n",
    "        else:\n",
    "            card_choice=input(\"Do you like to draw another card 'y' or 'n': \").lower()\n",
    "            if card_choice=='y':\n",
    "                user_cards.append(deal_card())\n",
    "            else:\n",
    "                game_over=True\n",
    "    \n",
    "    while computer_score>0 and computer_score<17:\n",
    "        computer_cards.append(deal_card())\n",
    "        computer_score=sum(computer_cards)\n",
    "    \n",
    "    def compare(u,c):\n",
    "        if u==c:\n",
    "            return \"Draw\"\n",
    "        elif c==0:\n",
    "            return \"You Lost, Opponent has blackjack\"\n",
    "        elif u==0:\n",
    "            return \"You Won with blackjack\"\n",
    "        elif c>21:\n",
    "            return \"Opponent went over. You win\"\n",
    "        elif u>21:\n",
    "            return \"You went over. You lose\"\n",
    "        elif user_score>computer_score:\n",
    "            return \"You won\"\n",
    "        else:\n",
    "            return \"You lose\"\n",
    "\n",
    "    print(f\"Your cards {user_cards} and score {user_score}\")\n",
    "    print(f\"Computer cards {computer_cards} and score {computer_score}\")\n",
    "    print(compare(your_score,computer_score))\n"
   ]
  },
  {
   "cell_type": "markdown",
   "id": "bdad81be",
   "metadata": {},
   "source": [
    "\n",
    "# Number Gussing game"
   ]
  },
  {
   "cell_type": "code",
   "execution_count": 288,
   "id": "20735e00",
   "metadata": {},
   "outputs": [
    {
     "name": "stdout",
     "output_type": "stream",
     "text": [
      "Welcome to number guessing game!!!!\n",
      "Im thinking of a number between 1 and 100.\n",
      "Choose a difficulty. Type 'easy' or 'hard': easy\n",
      "You have 10 attempts remaining to guess the number\n",
      "Make a Guess: 60\n",
      "Too High\n",
      "You have 9 attempts remaining to guess the number\n",
      "Make a Guess: 50\n",
      "Too High\n",
      "You have 8 attempts remaining to guess the number\n",
      "Make a Guess: 40\n",
      "Too High\n",
      "You have 7 attempts remaining to guess the number\n",
      "Make a Guess: 30\n",
      "Too Low\n",
      "You have 6 attempts remaining to guess the number\n",
      "Make a Guess: 35\n",
      "Too Low\n",
      "You have 5 attempts remaining to guess the number\n",
      "Make a Guess: 37\n",
      "Too High\n",
      "You have 4 attempts remaining to guess the number\n",
      "Make a Guess: 36\n",
      "Correct guess\n"
     ]
    }
   ],
   "source": [
    "import random\n",
    "print(\"Welcome to number guessing game!!!!\")\n",
    "print(\"Im thinking of a number between 1 and 100.\")\n",
    "difficulty=input(\"Choose a difficulty. Type 'easy' or 'hard': \").lower()\n",
    "if difficulty=='easy':\n",
    "    count=10\n",
    "else:\n",
    "    count=5\n",
    "number = random.randint(1,100)\n",
    "\n",
    "while count!=0 or guess==number:\n",
    "    print(f\"You have {count} attempts remaining to guess the number\")\n",
    "    guess=int(input(\"Make a Guess: \"))\n",
    "    if guess>number:\n",
    "        print(\"Too High\")\n",
    "    elif guess<number:\n",
    "        print(\"Too Low\")\n",
    "    elif guess==number:\n",
    "        print(\"Correct guess\")\n",
    "        break\n",
    "    count-=1"
   ]
  },
  {
   "cell_type": "markdown",
   "id": "34bb7b42",
   "metadata": {},
   "source": [
    "# Higher-Lower Game"
   ]
  },
  {
   "cell_type": "code",
   "execution_count": 296,
   "id": "7fcde5ef",
   "metadata": {},
   "outputs": [],
   "source": [
    "data = [\n",
    "    {\n",
    "        'name': 'Instagram',\n",
    "        'follower_count': 346,\n",
    "        'description': 'Social media platform',\n",
    "        'country': 'United States'\n",
    "    },\n",
    "    {\n",
    "        'name': 'Cristiano Ronaldo',\n",
    "        'follower_count': 215,\n",
    "        'description': 'Footballer',\n",
    "        'country': 'Portugal'\n",
    "    },\n",
    "    {\n",
    "        'name': 'Ariana Grande',\n",
    "        'follower_count': 183,\n",
    "        'description': 'Musician and actress',\n",
    "        'country': 'United States'\n",
    "    },\n",
    "    {\n",
    "        'name': 'Dwayne Johnson',\n",
    "        'follower_count': 181,\n",
    "        'description': 'Actor and professional wrestler',\n",
    "        'country': 'United States'\n",
    "    },\n",
    "    {\n",
    "        'name': 'Selena Gomez',\n",
    "        'follower_count': 174,\n",
    "        'description': 'Musician and actress',\n",
    "        'country': 'United States'\n",
    "    },\n",
    "    {\n",
    "        'name': 'Kylie Jenner',\n",
    "        'follower_count': 172,\n",
    "        'description': 'Reality TV personality and businesswoman and Self-Made Billionaire',\n",
    "        'country': 'United States'\n",
    "    },\n",
    "    {\n",
    "        'name': 'Kim Kardashian',\n",
    "        'follower_count': 167,\n",
    "        'description': 'Reality TV personality and businesswoman',\n",
    "        'country': 'United States'\n",
    "    },\n",
    "    {\n",
    "        'name': 'Lionel Messi',\n",
    "        'follower_count': 149,\n",
    "        'description': 'Footballer',\n",
    "        'country': 'Argentina'\n",
    "    },\n",
    "    {\n",
    "        'name': 'Beyoncé',\n",
    "        'follower_count': 145,\n",
    "        'description': 'Musician',\n",
    "        'country': 'United States'\n",
    "    },\n",
    "    {\n",
    "        'name': 'Neymar',\n",
    "        'follower_count': 138,\n",
    "        'description': 'Footballer',\n",
    "        'country': 'Brasil'\n",
    "    },\n",
    "    {\n",
    "        'name': 'National Geographic',\n",
    "        'follower_count': 135,\n",
    "        'description': 'Magazine',\n",
    "        'country': 'United States'\n",
    "    },\n",
    "    {\n",
    "        'name': 'Justin Bieber',\n",
    "        'follower_count': 133,\n",
    "        'description': 'Musician',\n",
    "        'country': 'Canada'\n",
    "    },\n",
    "    {\n",
    "        'name': 'Taylor Swift',\n",
    "        'follower_count': 131,\n",
    "        'description': 'Musician',\n",
    "        'country': 'United States'\n",
    "    },\n",
    "    {\n",
    "        'name': 'Kendall Jenner',\n",
    "        'follower_count': 127,\n",
    "        'description': 'Reality TV personality and Model',\n",
    "        'country': 'United States'\n",
    "    },\n",
    "    {\n",
    "        'name': 'Jennifer Lopez',\n",
    "        'follower_count': 119,\n",
    "        'description': 'Musician and actress',\n",
    "        'country': 'United States'\n",
    "    },\n",
    "    {\n",
    "        'name': 'Nicki Minaj',\n",
    "        'follower_count': 113,\n",
    "        'description': 'Musician',\n",
    "        'country': 'Trinidad and Tobago'\n",
    "    },\n",
    "    {\n",
    "        'name': 'Nike',\n",
    "        'follower_count': 109,\n",
    "        'description': 'Sportswear multinational',\n",
    "        'country': 'United States'\n",
    "    },\n",
    "    {\n",
    "        'name': 'Khloé Kardashian',\n",
    "        'follower_count': 108,\n",
    "        'description': 'Reality TV personality and businesswoman',\n",
    "        'country': 'United States'\n",
    "    },\n",
    "    {\n",
    "        'name': 'Miley Cyrus',\n",
    "        'follower_count': 107,\n",
    "        'description': 'Musician and actress',\n",
    "        'country': 'United States'\n",
    "    },\n",
    "    {\n",
    "        'name': 'Katy Perry',\n",
    "        'follower_count': 94,\n",
    "        'description': 'Musician',\n",
    "        'country': 'United States'\n",
    "    },\n",
    "    {\n",
    "        'name': 'Kourtney Kardashian',\n",
    "        'follower_count': 90,\n",
    "        'description': 'Reality TV personality',\n",
    "        'country': 'United States'\n",
    "    },\n",
    "    {\n",
    "        'name': 'Kevin Hart',\n",
    "        'follower_count': 89,\n",
    "        'description': 'Comedian and actor',\n",
    "        'country': 'United States'\n",
    "    },\n",
    "    {\n",
    "        'name': 'Ellen DeGeneres',\n",
    "        'follower_count': 87,\n",
    "        'description': 'Comedian',\n",
    "        'country': 'United States'\n",
    "    },\n",
    "    {\n",
    "        'name': 'Real Madrid CF',\n",
    "        'follower_count': 86,\n",
    "        'description': 'Football club',\n",
    "        'country': 'Spain'\n",
    "    },\n",
    "    {\n",
    "        'name': 'FC Barcelona',\n",
    "        'follower_count': 85,\n",
    "        'description': 'Football club',\n",
    "        'country': 'Spain'\n",
    "    },\n",
    "    {\n",
    "        'name': 'Rihanna',\n",
    "        'follower_count': 81,\n",
    "        'description': 'Musician and businesswoman',\n",
    "        'country': 'Barbados'\n",
    "    },\n",
    "    {\n",
    "        'name': 'Demi Lovato',\n",
    "        'follower_count': 80,\n",
    "        'description': 'Musician and actress',\n",
    "        'country': 'United States'\n",
    "    },\n",
    "    {\n",
    "        'name': \"Victoria's Secret\",\n",
    "        'follower_count': 69,\n",
    "        'description': 'Lingerie brand',\n",
    "        'country': 'United States'\n",
    "    },\n",
    "    {\n",
    "        'name': 'Zendaya',\n",
    "        'follower_count': 68,\n",
    "        'description': 'Actress and musician',\n",
    "        'country': 'United States'\n",
    "    },\n",
    "    {\n",
    "        'name': 'Shakira',\n",
    "        'follower_count': 66,\n",
    "        'description': 'Musician',\n",
    "        'country': 'Colombia'\n",
    "    },\n",
    "    {\n",
    "        'name': 'Drake',\n",
    "        'follower_count': 65,\n",
    "        'description': 'Musician',\n",
    "        'country': 'Canada'\n",
    "    },\n",
    "    {\n",
    "        'name': 'Chris Brown',\n",
    "        'follower_count': 64,\n",
    "        'description': 'Musician',\n",
    "        'country': 'United States'\n",
    "    },\n",
    "    {\n",
    "        'name': 'LeBron James',\n",
    "        'follower_count': 63,\n",
    "        'description': 'Basketball player',\n",
    "        'country': 'United States'\n",
    "    },\n",
    "    {\n",
    "        'name': 'Vin Diesel',\n",
    "        'follower_count': 62,\n",
    "        'description': 'Actor',\n",
    "        'country': 'United States'\n",
    "    },\n",
    "    {\n",
    "        'name': 'Cardi B',\n",
    "        'follower_count': 67,\n",
    "        'description': 'Musician',\n",
    "        'country': 'United States'\n",
    "    },\n",
    "    {\n",
    "        'name': 'David Beckham',\n",
    "        'follower_count': 82,\n",
    "        'description': 'Footballer',\n",
    "        'country': 'United Kingdom'\n",
    "    },\n",
    "    {\n",
    "        'name': 'Billie Eilish',\n",
    "        'follower_count': 61,\n",
    "        'description': 'Musician',\n",
    "        'country': 'United States'\n",
    "    },\n",
    "    {\n",
    "        'name': 'Justin Timberlake',\n",
    "        'follower_count': 59,\n",
    "        'description': 'Musician and actor',\n",
    "        'country': 'United States'\n",
    "    },\n",
    "    {\n",
    "        'name': 'UEFA Champions League',\n",
    "        'follower_count': 58,\n",
    "        'description': 'Club football competition',\n",
    "        'country': 'Europe'\n",
    "    },\n",
    "    {\n",
    "        'name': 'NASA',\n",
    "        'follower_count': 56,\n",
    "        'description': 'Space agency',\n",
    "        'country': 'United States'\n",
    "    },\n",
    "    {\n",
    "        'name': 'Emma Watson',\n",
    "        'follower_count': 56,\n",
    "        'description': 'Actress',\n",
    "        'country': 'United Kingdom'\n",
    "    },\n",
    "    {\n",
    "        'name': 'Shawn Mendes',\n",
    "        'follower_count': 57,\n",
    "        'description': 'Musician',\n",
    "        'country': 'Canada'\n",
    "    },\n",
    "    {\n",
    "        'name': 'Virat Kohli',\n",
    "        'follower_count': 55,\n",
    "        'description': 'Cricketer',\n",
    "        'country': 'India'\n",
    "    },\n",
    "    {\n",
    "        'name': 'Gigi Hadid',\n",
    "        'follower_count': 54,\n",
    "        'description': 'Model',\n",
    "        'country': 'United States'\n",
    "    },\n",
    "    {\n",
    "        'name': 'Priyanka Chopra Jonas',\n",
    "        'follower_count': 53,\n",
    "        'description': 'Actress and musician',\n",
    "        'country': 'India'\n",
    "    },\n",
    "    {\n",
    "        'name': '9GAG',\n",
    "        'follower_count': 52,\n",
    "        'description': 'Social media platform',\n",
    "        'country': 'China'\n",
    "    },\n",
    "    {\n",
    "        'name': 'Ronaldinho',\n",
    "        'follower_count': 51,\n",
    "        'description': 'Footballer',\n",
    "        'country': 'Brasil'\n",
    "    },\n",
    "    {\n",
    "        'name': 'Maluma',\n",
    "        'follower_count': 50,\n",
    "        'description': 'Musician',\n",
    "        'country': 'Colombia'\n",
    "    },\n",
    "    {\n",
    "        'name': 'Camila Cabello',\n",
    "        'follower_count': 49,\n",
    "        'description': 'Musician',\n",
    "        'country': 'Cuba'\n",
    "    },\n",
    "    {\n",
    "        'name': 'NBA',\n",
    "        'follower_count': 47,\n",
    "        'description': 'Club Basketball Competition',\n",
    "        'country': 'United States'\n",
    "    }\n",
    "]\n"
   ]
  },
  {
   "cell_type": "code",
   "execution_count": 365,
   "id": "07aebbaa",
   "metadata": {},
   "outputs": [
    {
     "name": "stdout",
     "output_type": "stream",
     "text": [
      "Sorry, that's wrong. Final score: 2\n",
      "80, 174\n"
     ]
    }
   ],
   "source": [
    "import random\n",
    "from IPython.display import clear_output\n",
    "print(\"Higher Lower game\")\n",
    "def shuffle_a():\n",
    "    comA=random.choice(data)\n",
    "    return comA\n",
    "def shuffle_b():\n",
    "    agaB=random.choice(data)\n",
    "    return agaB\n",
    "comA=shuffle_a()\n",
    "agaB=shuffle_b()\n",
    "score=0\n",
    "while comA!=agaB:\n",
    "    print(f\"Compare A: {comA['name']}, a {comA['description']}, from {comA['country']}.\")\n",
    "    print(\"-------------------------------------vs-------------------------------------\")\n",
    "    print(f\"Against B: {agaB['name']}, a {agaB['description']}, from {agaB['country']}\")\n",
    "    choice=input(\"Who has more followers? Type'A' or 'B': \" ).upper()\n",
    "    if (comA['follower_count']>agaB['follower_count'] and choice=='A') or (comA['follower_count']<agaB['follower_count'] and choice=='B'):\n",
    "        score+=1\n",
    "        clear_output(wait=True)\n",
    "        print(f\"You're right! Current score: {score}\")\n",
    "#         print(f\"{comA['follower_count']}, {agaB['follower_count']}\")\n",
    "        comA=agaB\n",
    "        agaB=shuffle_b()\n",
    "    else:\n",
    "        clear_output(wait=True)\n",
    "        print(f\"Sorry, that's wrong. Final score: {score}\")\n",
    "#         print(f\"{comA['follower_count']}, {agaB['follower_count']}\")\n",
    "        break"
   ]
  },
  {
   "cell_type": "code",
   "execution_count": null,
   "id": "481f471e",
   "metadata": {},
   "outputs": [],
   "source": []
  },
  {
   "cell_type": "code",
   "execution_count": 366,
   "id": "ddece47e",
   "metadata": {},
   "outputs": [],
   "source": [
    "resources = {\n",
    "    \"water\": 300,\n",
    "    \"milk\": 200,\n",
    "    \"coffee\": 100,\n",
    "    \"money\": 0.00\n",
    "}"
   ]
  },
  {
   "cell_type": "code",
   "execution_count": 369,
   "id": "403d0bbc",
   "metadata": {},
   "outputs": [],
   "source": [
    "resources['water']-=100"
   ]
  },
  {
   "cell_type": "code",
   "execution_count": 370,
   "id": "886f5dcd",
   "metadata": {},
   "outputs": [
    {
     "name": "stdout",
     "output_type": "stream",
     "text": [
      "100\n"
     ]
    }
   ],
   "source": [
    "print(resources['water']) "
   ]
  },
  {
   "cell_type": "code",
   "execution_count": 371,
   "id": "0a37ce70",
   "metadata": {},
   "outputs": [
    {
     "name": "stdout",
     "output_type": "stream",
     "text": [
      "Enter quat12\n"
     ]
    }
   ],
   "source": [
    "quat=int(input(\"Enter quat\"))*0.25"
   ]
  },
  {
   "cell_type": "code",
   "execution_count": 372,
   "id": "de43e894",
   "metadata": {},
   "outputs": [
    {
     "name": "stdout",
     "output_type": "stream",
     "text": [
      "3.0\n"
     ]
    }
   ],
   "source": [
    "print(quat)"
   ]
  },
  {
   "cell_type": "code",
   "execution_count": 373,
   "id": "75f4f699",
   "metadata": {},
   "outputs": [],
   "source": [
    "MENU = {\n",
    "    \"espresso\": {\n",
    "        \"ingredients\": {\n",
    "            \"water\": 50,\n",
    "            \"coffee\": 18,\n",
    "        },\n",
    "        \"cost\": 1.5,\n",
    "    },\n",
    "    \"latte\": {\n",
    "        \"ingredients\": {\n",
    "            \"water\": 200,\n",
    "            \"milk\": 150,\n",
    "            \"coffee\": 24,\n",
    "        },\n",
    "        \"cost\": 2.5,\n",
    "    },\n",
    "    \"cappuccino\": {\n",
    "        \"ingredients\": {\n",
    "            \"water\": 250,\n",
    "            \"milk\": 100,\n",
    "            \"coffee\": 24,\n",
    "        },\n",
    "        \"cost\": 3.0,\n",
    "    }\n",
    "}"
   ]
  },
  {
   "cell_type": "code",
   "execution_count": 376,
   "id": "0393c4b5",
   "metadata": {},
   "outputs": [
    {
     "name": "stdout",
     "output_type": "stream",
     "text": [
      "1.5\n"
     ]
    }
   ],
   "source": [
    "print(MENU[\"espresso\"]['cost'])"
   ]
  },
  {
   "cell_type": "code",
   "execution_count": 377,
   "id": "1f3d1b52",
   "metadata": {},
   "outputs": [],
   "source": [
    "def insert_coins(choice):\n",
    "    quarters = int(input(\"Insert Quarters: \"))*0.25\n",
    "    dimes = int(input(\"Insert Dimes: \"))*0.10\n",
    "    nickles = int(input(\"Insert nickels: \"))*0.05\n",
    "    pennies = int(input(\"Insert pennies: \"))*0.01\n",
    "    total_value_coins_inserted = quarters+dimes+nickles+pennies\n",
    "    return total_value_coins_inserted"
   ]
  },
  {
   "cell_type": "code",
   "execution_count": 381,
   "id": "ee10a866",
   "metadata": {},
   "outputs": [
    {
     "name": "stdout",
     "output_type": "stream",
     "text": [
      "Insert Quarters: 12\n",
      "Insert Dimes: 45\n",
      "Insert nickels: 43\n",
      "Insert pennies: 54\n"
     ]
    }
   ],
   "source": [
    "value = insert_coins('espresso')"
   ]
  },
  {
   "cell_type": "code",
   "execution_count": 380,
   "id": "b801e146",
   "metadata": {},
   "outputs": [
    {
     "name": "stdout",
     "output_type": "stream",
     "text": [
      "4.920000000000001\n"
     ]
    }
   ],
   "source": [
    "print(value)"
   ]
  },
  {
   "cell_type": "code",
   "execution_count": 387,
   "id": "cd43c0e9",
   "metadata": {},
   "outputs": [],
   "source": [
    "def func(*args):\n",
    "    lst=[]\n",
    "    for arg in args:\n",
    "        lst.append(arg)\n",
    "        print(arg)\n",
    "    return lst"
   ]
  },
  {
   "cell_type": "code",
   "execution_count": 390,
   "id": "b36cb5fa",
   "metadata": {},
   "outputs": [
    {
     "name": "stdout",
     "output_type": "stream",
     "text": [
      "1\n",
      "23\n",
      "5\n",
      "7\n"
     ]
    }
   ],
   "source": [
    "fun=func(1,23,5,7)\n"
   ]
  },
  {
   "cell_type": "code",
   "execution_count": 391,
   "id": "c99f04f2",
   "metadata": {},
   "outputs": [
    {
     "name": "stdout",
     "output_type": "stream",
     "text": [
      "[1, 23, 5, 7]\n"
     ]
    }
   ],
   "source": [
    "print(fun)"
   ]
  },
  {
   "cell_type": "markdown",
   "id": "b571c5b4",
   "metadata": {},
   "source": [
    "# Turtle module"
   ]
  },
  {
   "cell_type": "code",
   "execution_count": 2,
   "id": "79f20a34",
   "metadata": {},
   "outputs": [],
   "source": [
    "import turtle\n",
    "import random\n",
    "\n",
    "chopy = turtle.Turtle()\n",
    "screen = turtle.Screen()\n",
    "turtle.colormode(255)\n",
    "# n = [x for x in range(3, 11)]\n",
    "color = ['red', 'blue', 'green', 'black', 'brown', 'violet']\n",
    "directions = [0,90,270,360]\n",
    "\n",
    "# for x in n:\n",
    "#     sides = 360/x\n",
    "#     chopy.color(random.choice(color))\n",
    "#     for _ in range(x):\n",
    "#\n",
    "#         chopy.forward(100)\n",
    "#         chopy.right(sides)\n",
    "#\n",
    "#\n",
    "# Random walk\n",
    "chopy.width(5)\n",
    "chopy.speed(50)\n",
    "for x in range(100):\n",
    "    chopy.pencolor(random.randint(0,255), random.randint(0,255), random.randint(0,255))\n",
    "    chopy.forward(20)\n",
    "    chopy.right(random.randint(0,360))"
   ]
  },
  {
   "cell_type": "code",
   "execution_count": 3,
   "id": "90b9ba39",
   "metadata": {},
   "outputs": [],
   "source": [
    "import turtle\n",
    "import random\n",
    "\n",
    "chopy = turtle.Turtle()\n",
    "screen = turtle.Screen()\n",
    "turtle.colormode(255)\n",
    "# n = [x for x in range(3, 11)]\n",
    "color = ['red', 'blue', 'green', 'black', 'brown', 'violet']\n",
    "directions = [0,90,270,360]\n",
    "\n",
    "# for x in n:\n",
    "#     sides = 360/x\n",
    "#     chopy.color(random.choice(color))\n",
    "#     for _ in range(x):\n",
    "#\n",
    "#         chopy.forward(100)\n",
    "#         chopy.right(sides)\n",
    "#\n",
    "#\n",
    "# Random walk\n",
    "chopy.speed('fastest')\n",
    "chopy.width(5)\n",
    "for x in range(int(360/10)):\n",
    "    cur = chopy.heading()\n",
    "    chopy.setheading(cur+10)\n",
    "    chopy.pencolor(random.randint(0,255), random.randint(0,255), random.randint(0,255))\n",
    "    chopy.circle(100)\n",
    "screen.exitonclick()"
   ]
  },
  {
   "cell_type": "code",
   "execution_count": 1,
   "id": "9e39a6b4",
   "metadata": {},
   "outputs": [],
   "source": [
    "from turtle import Turtle, Screen\n",
    "\n",
    "def move_forward():\n",
    "    choppy.forward(100)\n",
    "def left():\n",
    "    choppy.left(90)\n",
    "def right():\n",
    "    choppy.right(90)\n",
    "def back():\n",
    "    choppy.left(180)\n",
    "def circle():\n",
    "    choppy.circle(100)\n",
    "\n",
    "choppy = Turtle() \n",
    "screen = Screen()\n",
    "screen.listen() \n",
    "screen.onkey(move_forward, \"space\")\n",
    "screen.onkey(left, \"a\")\n",
    "screen.onkey(right, \"d\")\n",
    "screen.onkey(back, \"s\")\n",
    "screen.onkey(circle, \"w\")\n",
    "screen.exitonclick()\n"
   ]
  },
  {
   "cell_type": "code",
   "execution_count": null,
   "id": "7e363625",
   "metadata": {},
   "outputs": [],
   "source": [
    "from turtle import Turtle, Screen\n",
    "\n",
    "tim = Turtle()\n",
    "screen = Screen()\n",
    "screen.setup(500,400)\n",
    "\n",
    "screen.exitonclick()"
   ]
  },
  {
   "cell_type": "markdown",
   "id": "90bae81c",
   "metadata": {},
   "source": [
    "# Turtle race"
   ]
  },
  {
   "cell_type": "code",
   "execution_count": 9,
   "id": "2ef27347",
   "metadata": {},
   "outputs": [
    {
     "name": "stdout",
     "output_type": "stream",
     "text": [
      "You've lost the bet!! green turtle is the winner\n"
     ]
    }
   ],
   "source": [
    "from turtle import Turtle, Screen\n",
    "from random import choice, randint\n",
    "col = ['red' , 'blue', 'green', 'black', 'orange']\n",
    "screen = Screen()\n",
    "screen.setup(width=500, height=400)\n",
    "user_bet = screen.textinput(title = \"Make your bet\",prompt = \"Who will win the race!!\")\n",
    "\n",
    "a = -80\n",
    "trurle_lst = []\n",
    "\n",
    "\n",
    "for x in range(0,5):\n",
    "    turtle = Turtle(shape = 'turtle')\n",
    "    turtle.penup()\n",
    "    turtle.color(col[x])\n",
    "    turtle.goto(x = -230, y = a)\n",
    "    a += 40\n",
    "    trurle_lst.append(turtle)\n",
    "\n",
    "    \n",
    "if user_bet:\n",
    "    race_on = True\n",
    "\n",
    "while race_on:\n",
    "    for turtle in trurle_lst:\n",
    "        if turtle.xcor() >230:\n",
    "            race_on = False\n",
    "            winning_col = turtle.pencolor()\n",
    "            if winning_col == user_bet:\n",
    "                print(f\"You've won the bet!! {winning_col} turtle is the winner\")\n",
    "            else:\n",
    "                print(f\"You've lost the bet!! {winning_col} turtle is the winner\")\n",
    "\n",
    "        \n",
    "        turtle.speed(randint(0,20))\n",
    "        turtle.forward(randint(0,10))\n",
    "\n",
    "screen.exitonclick()"
   ]
  },
  {
   "cell_type": "markdown",
   "id": "35c761e6",
   "metadata": {},
   "source": [
    "# Snake Game"
   ]
  },
  {
   "cell_type": "code",
   "execution_count": 22,
   "id": "77730f27",
   "metadata": {},
   "outputs": [],
   "source": [
    "from turtle import Turtle, Screen\n",
    "def create_square(x):\n",
    "    y = x.clone\n",
    "    return y\n",
    "screen = Screen()\n",
    "screen.setup(width=600,height=600)\n",
    "screen.bgcolor(\"black\")\n",
    "screen.title(\"Snake Game\")\n",
    "tur = Turtle(shape='square')\n",
    "tur.color('white')\n",
    "tur1=create_square(tur)\n",
    "\n",
    "screen.exitonclick()"
   ]
  },
  {
   "cell_type": "code",
   "execution_count": 23,
   "id": "90f0e141",
   "metadata": {},
   "outputs": [],
   "source": [
    "lst = [1,2,3,4,56,78,9,0,4,6,9]"
   ]
  },
  {
   "cell_type": "code",
   "execution_count": 25,
   "id": "70515a65",
   "metadata": {},
   "outputs": [
    {
     "data": {
      "text/plain": [
       "[2, 3, 4, 56, 78, 9, 0, 4, 6, 9]"
      ]
     },
     "execution_count": 25,
     "metadata": {},
     "output_type": "execute_result"
    }
   ],
   "source": [
    "lst[1:]"
   ]
  },
  {
   "cell_type": "code",
   "execution_count": 1,
   "id": "e450ffca",
   "metadata": {},
   "outputs": [
    {
     "ename": "SyntaxError",
     "evalue": "invalid syntax (2451895126.py, line 1)",
     "output_type": "error",
     "traceback": [
      "\u001b[1;36m  Cell \u001b[1;32mIn[1], line 1\u001b[1;36m\u001b[0m\n\u001b[1;33m    jupyter notebook --notebook-dir D:/my_works/jupyter_ipynbs\u001b[0m\n\u001b[1;37m            ^\u001b[0m\n\u001b[1;31mSyntaxError\u001b[0m\u001b[1;31m:\u001b[0m invalid syntax\n"
     ]
    }
   ],
   "source": [
    "jupyter notebook --notebook-dir D:/my_works/jupyter_ipynbs\n"
   ]
  }
 ],
 "metadata": {
  "kernelspec": {
   "display_name": "Python 3 (ipykernel)",
   "language": "python",
   "name": "python3"
  },
  "language_info": {
   "codemirror_mode": {
    "name": "ipython",
    "version": 3
   },
   "file_extension": ".py",
   "mimetype": "text/x-python",
   "name": "python",
   "nbconvert_exporter": "python",
   "pygments_lexer": "ipython3",
   "version": "3.10.9"
  },
  "vscode": {
   "interpreter": {
    "hash": "e6c657a94c0042035325806cae58b31ef233e86b875a080b3f24cb4119599039"
   }
  }
 },
 "nbformat": 4,
 "nbformat_minor": 5
}
